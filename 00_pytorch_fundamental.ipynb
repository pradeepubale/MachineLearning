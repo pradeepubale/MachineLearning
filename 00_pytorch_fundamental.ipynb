{
  "nbformat": 4,
  "nbformat_minor": 0,
  "metadata": {
    "colab": {
      "provenance": [],
      "gpuType": "T4",
      "authorship_tag": "ABX9TyPgDAKQH4hRNXSstrsAMMfz",
      "include_colab_link": true
    },
    "kernelspec": {
      "name": "python3",
      "display_name": "Python 3"
    },
    "language_info": {
      "name": "python"
    },
    "accelerator": "GPU"
  },
  "cells": [
    {
      "cell_type": "markdown",
      "metadata": {
        "id": "view-in-github",
        "colab_type": "text"
      },
      "source": [
        "<a href=\"https://colab.research.google.com/github/pradeepubale/MachineLearning/blob/main/00_pytorch_fundamental.ipynb\" target=\"_parent\"><img src=\"https://colab.research.google.com/assets/colab-badge.svg\" alt=\"Open In Colab\"/></a>"
      ]
    },
    {
      "cell_type": "code",
      "execution_count": null,
      "metadata": {
        "colab": {
          "base_uri": "https://localhost:8080/"
        },
        "id": "5bpQET5J4lAJ",
        "outputId": "ee37766e-76ac-4da6-f8b9-accc0afdbc88"
      },
      "outputs": [
        {
          "output_type": "stream",
          "name": "stdout",
          "text": [
            "Fri Feb  7 12:01:59 2025       \n",
            "+-----------------------------------------------------------------------------------------+\n",
            "| NVIDIA-SMI 550.54.15              Driver Version: 550.54.15      CUDA Version: 12.4     |\n",
            "|-----------------------------------------+------------------------+----------------------+\n",
            "| GPU  Name                 Persistence-M | Bus-Id          Disp.A | Volatile Uncorr. ECC |\n",
            "| Fan  Temp   Perf          Pwr:Usage/Cap |           Memory-Usage | GPU-Util  Compute M. |\n",
            "|                                         |                        |               MIG M. |\n",
            "|=========================================+========================+======================|\n",
            "|   0  Tesla T4                       Off |   00000000:00:04.0 Off |                    0 |\n",
            "| N/A   56C    P8             13W /   70W |       0MiB /  15360MiB |      0%      Default |\n",
            "|                                         |                        |                  N/A |\n",
            "+-----------------------------------------+------------------------+----------------------+\n",
            "                                                                                         \n",
            "+-----------------------------------------------------------------------------------------+\n",
            "| Processes:                                                                              |\n",
            "|  GPU   GI   CI        PID   Type   Process name                              GPU Memory |\n",
            "|        ID   ID                                                               Usage      |\n",
            "|=========================================================================================|\n",
            "|  No running processes found                                                             |\n",
            "+-----------------------------------------------------------------------------------------+\n"
          ]
        }
      ],
      "source": [
        "# In Runtime: GPU   Tesla-T4 16 GB\n",
        "!nvidia-smi"
      ]
    },
    {
      "cell_type": "code",
      "source": [
        "# back to cpu\n",
        "# all pre installed packages\n",
        "import torch\n",
        "import numpy as np\n",
        "import pandas as pd\n",
        "import matplotlib.pyplot as plt\n",
        "import seaborn as sns\n",
        "\n",
        "print(torch.__version__)\n",
        "# cu stands for cuda version"
      ],
      "metadata": {
        "colab": {
          "base_uri": "https://localhost:8080/"
        },
        "id": "JRb06HFR51q6",
        "outputId": "974b72f8-2cf3-4dff-8295-e416fc6f2a4e"
      },
      "execution_count": null,
      "outputs": [
        {
          "output_type": "stream",
          "name": "stdout",
          "text": [
            "2.5.1+cu124\n"
          ]
        }
      ]
    },
    {
      "cell_type": "markdown",
      "source": [
        "## Introduction to Tensors  \n",
        "###Creating Tensors\n",
        "\n",
        "PyTorch tensors are created using `torch.Tensor()`  \n",
        "\n",
        "see Tensors in pytorch documentation"
      ],
      "metadata": {
        "id": "XxoIfsMM7H8l"
      }
    },
    {
      "cell_type": "code",
      "source": [
        "# scalar\n",
        "scalar = torch.tensor(7)\n",
        "scalar"
      ],
      "metadata": {
        "id": "EmDK3Ul-6F6u",
        "colab": {
          "base_uri": "https://localhost:8080/"
        },
        "outputId": "e072feea-a37f-4b78-f393-733eee82189b"
      },
      "execution_count": null,
      "outputs": [
        {
          "output_type": "execute_result",
          "data": {
            "text/plain": [
              "tensor(7)"
            ]
          },
          "metadata": {},
          "execution_count": 3
        }
      ]
    },
    {
      "cell_type": "code",
      "source": [
        "scalar.ndim  # size"
      ],
      "metadata": {
        "colab": {
          "base_uri": "https://localhost:8080/"
        },
        "id": "BNsEHsmLKeLp",
        "outputId": "f119521d-d1a5-4000-825c-d7ac8b869b77"
      },
      "execution_count": null,
      "outputs": [
        {
          "output_type": "execute_result",
          "data": {
            "text/plain": [
              "0"
            ]
          },
          "metadata": {},
          "execution_count": 4
        }
      ]
    },
    {
      "cell_type": "code",
      "source": [
        "# get tensor back as python int\n",
        "scalar.item()"
      ],
      "metadata": {
        "colab": {
          "base_uri": "https://localhost:8080/"
        },
        "id": "HyXIqr9gKmPk",
        "outputId": "8237dc03-b177-412c-abe8-7022fa814a96"
      },
      "execution_count": null,
      "outputs": [
        {
          "output_type": "execute_result",
          "data": {
            "text/plain": [
              "7"
            ]
          },
          "metadata": {},
          "execution_count": 5
        }
      ]
    },
    {
      "cell_type": "code",
      "source": [
        "vector = torch.tensor([7,8]) # size 1x1\n",
        "vector"
      ],
      "metadata": {
        "colab": {
          "base_uri": "https://localhost:8080/"
        },
        "id": "Fnu7sPR_K7zk",
        "outputId": "87eec049-a1b3-4ec3-bd54-0b24b8cdff5a"
      },
      "execution_count": null,
      "outputs": [
        {
          "output_type": "execute_result",
          "data": {
            "text/plain": [
              "tensor([7, 8])"
            ]
          },
          "metadata": {},
          "execution_count": 6
        }
      ]
    },
    {
      "cell_type": "code",
      "source": [
        "# gives dimension scalar has 0,\n",
        "# vector has one(1 dimension, simple remember as have 1 box )\n",
        "vector.ndim"
      ],
      "metadata": {
        "colab": {
          "base_uri": "https://localhost:8080/"
        },
        "id": "IEznqtqmLMtA",
        "outputId": "44957f0e-aac6-4ed4-933d-33a6de930109"
      },
      "execution_count": null,
      "outputs": [
        {
          "output_type": "execute_result",
          "data": {
            "text/plain": [
              "1"
            ]
          },
          "metadata": {},
          "execution_count": 7
        }
      ]
    },
    {
      "cell_type": "code",
      "source": [
        "# shape gives us no of elements\n",
        "# ndim is simple no of pair of box brackets\n",
        "vector.shape"
      ],
      "metadata": {
        "colab": {
          "base_uri": "https://localhost:8080/"
        },
        "id": "wHuC3b99LwQh",
        "outputId": "4bd4f3f7-9e0a-43f9-ba72-7c7f17106d7b"
      },
      "execution_count": null,
      "outputs": [
        {
          "output_type": "execute_result",
          "data": {
            "text/plain": [
              "torch.Size([2])"
            ]
          },
          "metadata": {},
          "execution_count": 8
        }
      ]
    },
    {
      "cell_type": "code",
      "source": [
        "# MATRIX 2x2\n",
        "MATRIX = torch.tensor([[1,2],\n",
        "                      [3,4]])\n",
        "MATRIX"
      ],
      "metadata": {
        "colab": {
          "base_uri": "https://localhost:8080/"
        },
        "id": "SI0hRIkgMI6Q",
        "outputId": "e79bff55-142e-4447-b0ab-5fc4272abe45"
      },
      "execution_count": null,
      "outputs": [
        {
          "output_type": "execute_result",
          "data": {
            "text/plain": [
              "tensor([[1, 2],\n",
              "        [3, 4]])"
            ]
          },
          "metadata": {},
          "execution_count": 9
        }
      ]
    },
    {
      "cell_type": "markdown",
      "source": [
        "In PyTorch Any time you convert data into numbers its of a tensor data type."
      ],
      "metadata": {
        "id": "2fL1oMSzMvOd"
      }
    },
    {
      "cell_type": "code",
      "source": [
        "MATRIX.ndim"
      ],
      "metadata": {
        "colab": {
          "base_uri": "https://localhost:8080/"
        },
        "id": "ufxNwbyjMmiA",
        "outputId": "ee353bb0-78c6-4cdf-b135-b29bc5a49ae9"
      },
      "execution_count": null,
      "outputs": [
        {
          "output_type": "execute_result",
          "data": {
            "text/plain": [
              "2"
            ]
          },
          "metadata": {},
          "execution_count": 10
        }
      ]
    },
    {
      "cell_type": "code",
      "source": [
        "MATRIX[0]"
      ],
      "metadata": {
        "colab": {
          "base_uri": "https://localhost:8080/"
        },
        "id": "3pJzy1GBNAuQ",
        "outputId": "a2baa9b9-8375-4253-9549-af7322a0c973"
      },
      "execution_count": null,
      "outputs": [
        {
          "output_type": "execute_result",
          "data": {
            "text/plain": [
              "tensor([1, 2])"
            ]
          },
          "metadata": {},
          "execution_count": 11
        }
      ]
    },
    {
      "cell_type": "code",
      "source": [
        "MATRIX.shape"
      ],
      "metadata": {
        "colab": {
          "base_uri": "https://localhost:8080/"
        },
        "id": "wsmDueGiNPCA",
        "outputId": "1007a6e0-d55c-4e8c-a41c-070aede0de7b"
      },
      "execution_count": null,
      "outputs": [
        {
          "output_type": "execute_result",
          "data": {
            "text/plain": [
              "torch.Size([2, 2])"
            ]
          },
          "metadata": {},
          "execution_count": 12
        }
      ]
    },
    {
      "cell_type": "code",
      "source": [
        "# TENSOR 3x3\n",
        "TENSOR = torch.tensor([[[5,6,7],\n",
        "                        [2,4,5],\n",
        "                        [0,9,8]]])\n",
        "TENSOR"
      ],
      "metadata": {
        "colab": {
          "base_uri": "https://localhost:8080/"
        },
        "id": "8Sv-0TWgNXRA",
        "outputId": "bf2fd6d8-7fa3-4713-9723-303e34207cf3"
      },
      "execution_count": null,
      "outputs": [
        {
          "output_type": "execute_result",
          "data": {
            "text/plain": [
              "tensor([[[5, 6, 7],\n",
              "         [2, 4, 5],\n",
              "         [0, 9, 8]]])"
            ]
          },
          "metadata": {},
          "execution_count": 13
        }
      ]
    },
    {
      "cell_type": "code",
      "source": [
        "TENSOR.ndim"
      ],
      "metadata": {
        "colab": {
          "base_uri": "https://localhost:8080/"
        },
        "id": "_cCTjpEFOJlo",
        "outputId": "ca267d25-04b2-46a5-8283-2cc8fd61915c"
      },
      "execution_count": null,
      "outputs": [
        {
          "output_type": "execute_result",
          "data": {
            "text/plain": [
              "3"
            ]
          },
          "metadata": {},
          "execution_count": 14
        }
      ]
    },
    {
      "cell_type": "code",
      "source": [
        "TENSOR.shape"
      ],
      "metadata": {
        "colab": {
          "base_uri": "https://localhost:8080/"
        },
        "id": "2w4nOgNwOQBH",
        "outputId": "5ef28302-01f5-4a53-b381-1659dd6d3e55"
      },
      "execution_count": null,
      "outputs": [
        {
          "output_type": "execute_result",
          "data": {
            "text/plain": [
              "torch.Size([1, 3, 3])"
            ]
          },
          "metadata": {},
          "execution_count": 15
        }
      ]
    },
    {
      "cell_type": "code",
      "source": [
        "TENSOR[0]"
      ],
      "metadata": {
        "colab": {
          "base_uri": "https://localhost:8080/"
        },
        "id": "E9GpdKdDOTNP",
        "outputId": "352c9169-6751-4a55-ceba-436f08c473fa"
      },
      "execution_count": null,
      "outputs": [
        {
          "output_type": "execute_result",
          "data": {
            "text/plain": [
              "tensor([[5, 6, 7],\n",
              "        [2, 4, 5],\n",
              "        [0, 9, 8]])"
            ]
          },
          "metadata": {},
          "execution_count": 16
        }
      ]
    },
    {
      "cell_type": "code",
      "source": [
        "TENSOR[0][1], TENSOR[0][2], TENSOR[0][0]"
      ],
      "metadata": {
        "colab": {
          "base_uri": "https://localhost:8080/"
        },
        "id": "pzfJIAGxOlFn",
        "outputId": "61805ecd-2cb4-4eb1-ec58-9ea7896835c3"
      },
      "execution_count": null,
      "outputs": [
        {
          "output_type": "execute_result",
          "data": {
            "text/plain": [
              "(tensor([2, 4, 5]), tensor([0, 9, 8]), tensor([5, 6, 7]))"
            ]
          },
          "metadata": {},
          "execution_count": 17
        }
      ]
    },
    {
      "cell_type": "code",
      "source": [
        "TENSOR[0][0][0], TENSOR[0][2][1]"
      ],
      "metadata": {
        "colab": {
          "base_uri": "https://localhost:8080/"
        },
        "id": "TkO-eGJpOoT3",
        "outputId": "adcc92f3-d256-47b7-8099-5536f6d236fe"
      },
      "execution_count": null,
      "outputs": [
        {
          "output_type": "execute_result",
          "data": {
            "text/plain": [
              "(tensor(5), tensor(9))"
            ]
          },
          "metadata": {},
          "execution_count": 18
        }
      ]
    },
    {
      "cell_type": "markdown",
      "source": [
        "scalar - a single number - lower case nomenclature\n",
        "\n",
        "vector - a number with direction lower  \n",
        "\n",
        "matrix - 2D array - Upper case  \n",
        "\n",
        "tensor - n-d array - UPPER case"
      ],
      "metadata": {
        "id": "vi3mSvMNPkjE"
      }
    },
    {
      "cell_type": "code",
      "source": [],
      "metadata": {
        "id": "HbMpTo40QCkC"
      },
      "execution_count": null,
      "outputs": []
    },
    {
      "cell_type": "markdown",
      "source": [
        "### Random Tensors  \n",
        "are imp bcoz the way many neural networks learn is that they start with tensors full of random numbers and then adjust those random numbers to better represent the data.  \n",
        "\n",
        "`Start with random numbers -> look at data -> update random numbers -> look at data -> update random numbers ...`"
      ],
      "metadata": {
        "id": "tCy1zdeYQQ8v"
      }
    },
    {
      "cell_type": "code",
      "source": [
        "# create a random tensor of size (3,4)\n",
        "random_tensor = torch.rand(3, 4)\n",
        "random_tensor"
      ],
      "metadata": {
        "colab": {
          "base_uri": "https://localhost:8080/"
        },
        "id": "6XqQ57TxRJF8",
        "outputId": "74462d6a-95a7-4a27-ba77-388b37c7c534"
      },
      "execution_count": null,
      "outputs": [
        {
          "output_type": "execute_result",
          "data": {
            "text/plain": [
              "tensor([[0.9559, 0.7158, 0.9823, 0.0463],\n",
              "        [0.6271, 0.3493, 0.7865, 0.3329],\n",
              "        [0.3697, 0.1731, 0.9968, 0.6688]])"
            ]
          },
          "metadata": {},
          "execution_count": 19
        }
      ]
    },
    {
      "cell_type": "code",
      "source": [
        "# here we have 2 box brackets, so 2 dimensions\n",
        "random_tensor.ndim"
      ],
      "metadata": {
        "colab": {
          "base_uri": "https://localhost:8080/"
        },
        "id": "v9B3RbxsRo7Y",
        "outputId": "3ed339cb-c91a-434c-a3f0-353dda34e98f"
      },
      "execution_count": null,
      "outputs": [
        {
          "output_type": "execute_result",
          "data": {
            "text/plain": [
              "2"
            ]
          },
          "metadata": {},
          "execution_count": 20
        }
      ]
    },
    {
      "cell_type": "code",
      "source": [
        "rand1 = torch.rand(1, 3, 4)\n",
        "rand1"
      ],
      "metadata": {
        "colab": {
          "base_uri": "https://localhost:8080/"
        },
        "id": "GqmBQ2-oSUTo",
        "outputId": "fcb70a78-3708-4ccc-b4bb-d6ced001e9df"
      },
      "execution_count": null,
      "outputs": [
        {
          "output_type": "execute_result",
          "data": {
            "text/plain": [
              "tensor([[[0.6674, 0.4111, 0.4802, 0.3626],\n",
              "         [0.4484, 0.7643, 0.8571, 0.0149],\n",
              "         [0.5566, 0.3533, 0.7870, 0.4376]]])"
            ]
          },
          "metadata": {},
          "execution_count": 21
        }
      ]
    },
    {
      "cell_type": "code",
      "source": [
        "# now 3 dim\n",
        "rand1.ndim"
      ],
      "metadata": {
        "colab": {
          "base_uri": "https://localhost:8080/"
        },
        "id": "Q7jt61EJSlmQ",
        "outputId": "82e3db87-fb3d-4ad7-c687-cb7c88ee319f"
      },
      "execution_count": null,
      "outputs": [
        {
          "output_type": "execute_result",
          "data": {
            "text/plain": [
              "3"
            ]
          },
          "metadata": {},
          "execution_count": 22
        }
      ]
    },
    {
      "cell_type": "code",
      "source": [
        "# create a random tensor with similar shape to an iamge tensor\n",
        "# image_size = torch.rand(size=(height, width, color_channel))\n",
        "\n",
        "random_image_size_tensor = torch.rand(size=(224, 224, 3))\n",
        "# height, width, color channels(R, G, B)\n",
        "\n",
        "random_image_size_tensor.shape,\n",
        "random_image_size_tensor.ndim"
      ],
      "metadata": {
        "colab": {
          "base_uri": "https://localhost:8080/"
        },
        "id": "DbBtsXUQSqtA",
        "outputId": "ac874c7a-cb32-4fd9-b5e0-8a88a5b908b4"
      },
      "execution_count": null,
      "outputs": [
        {
          "output_type": "execute_result",
          "data": {
            "text/plain": [
              "3"
            ]
          },
          "metadata": {},
          "execution_count": 23
        }
      ]
    },
    {
      "cell_type": "code",
      "source": [
        "random_image_size_tensor.shape\n",
        "# sometimes it shows [3, 224, 224] color channel comes first"
      ],
      "metadata": {
        "colab": {
          "base_uri": "https://localhost:8080/"
        },
        "id": "u_1evSaZWXJS",
        "outputId": "8b71e29d-8d83-4cf4-da21-51bb0a7c3259"
      },
      "execution_count": null,
      "outputs": [
        {
          "output_type": "execute_result",
          "data": {
            "text/plain": [
              "torch.Size([224, 224, 3])"
            ]
          },
          "metadata": {},
          "execution_count": 24
        }
      ]
    },
    {
      "cell_type": "code",
      "source": [
        "random_image_size_tensor\n",
        "# creating all the tensors of shape [224,224,3] in background"
      ],
      "metadata": {
        "colab": {
          "base_uri": "https://localhost:8080/"
        },
        "id": "D-OgA_bXWewo",
        "outputId": "cea92503-607a-484a-f306-47b61b5638fe"
      },
      "execution_count": null,
      "outputs": [
        {
          "output_type": "execute_result",
          "data": {
            "text/plain": [
              "tensor([[[0.9844, 0.2049, 0.9072],\n",
              "         [0.4113, 0.1480, 0.0743],\n",
              "         [0.2518, 0.6683, 0.8255],\n",
              "         ...,\n",
              "         [0.6973, 0.6882, 0.9654],\n",
              "         [0.9800, 0.1071, 0.2956],\n",
              "         [0.9821, 0.8743, 0.9727]],\n",
              "\n",
              "        [[0.4748, 0.8846, 0.4899],\n",
              "         [0.8923, 0.5891, 0.7464],\n",
              "         [0.4678, 0.2305, 0.5300],\n",
              "         ...,\n",
              "         [0.9676, 0.0353, 0.0119],\n",
              "         [0.9534, 0.0687, 0.3073],\n",
              "         [0.9034, 0.2458, 0.7770]],\n",
              "\n",
              "        [[0.6356, 0.2122, 0.5886],\n",
              "         [0.0965, 0.7647, 0.9224],\n",
              "         [0.0489, 0.0508, 0.3246],\n",
              "         ...,\n",
              "         [0.9610, 0.4356, 0.9905],\n",
              "         [0.9988, 0.9741, 0.4298],\n",
              "         [0.5247, 0.9420, 0.5966]],\n",
              "\n",
              "        ...,\n",
              "\n",
              "        [[0.6851, 0.3094, 0.0029],\n",
              "         [0.8915, 0.2904, 0.2544],\n",
              "         [0.6234, 0.5913, 0.8667],\n",
              "         ...,\n",
              "         [0.9091, 0.1075, 0.5623],\n",
              "         [0.4497, 0.3793, 0.7610],\n",
              "         [0.4713, 0.1618, 0.1351]],\n",
              "\n",
              "        [[0.6963, 0.0989, 0.7140],\n",
              "         [0.3747, 0.6730, 0.0380],\n",
              "         [0.7168, 0.4203, 0.0531],\n",
              "         ...,\n",
              "         [0.5861, 0.0336, 0.9394],\n",
              "         [0.4267, 0.9860, 0.9762],\n",
              "         [0.3222, 0.9722, 0.3973]],\n",
              "\n",
              "        [[0.5564, 0.0938, 0.2403],\n",
              "         [0.7917, 0.0617, 0.9009],\n",
              "         [0.5219, 0.4410, 0.1118],\n",
              "         ...,\n",
              "         [0.3071, 0.8257, 0.5396],\n",
              "         [0.9301, 0.2410, 0.3399],\n",
              "         [0.3882, 0.2359, 0.3029]]])"
            ]
          },
          "metadata": {},
          "execution_count": 25
        }
      ]
    },
    {
      "cell_type": "code",
      "source": [
        "#creating my random tensor\n",
        "another_random_tensor = torch.rand(5, 10, 10)\n",
        "\n",
        "another_random_tensor.shape, another_random_tensor.ndim"
      ],
      "metadata": {
        "colab": {
          "base_uri": "https://localhost:8080/"
        },
        "id": "n2FPRDg7XheB",
        "outputId": "f0900e11-b64a-44a8-dd29-0b81bc964169"
      },
      "execution_count": null,
      "outputs": [
        {
          "output_type": "execute_result",
          "data": {
            "text/plain": [
              "(torch.Size([5, 10, 10]), 3)"
            ]
          },
          "metadata": {},
          "execution_count": 26
        }
      ]
    },
    {
      "cell_type": "code",
      "source": [
        "another_random_tensor"
      ],
      "metadata": {
        "colab": {
          "base_uri": "https://localhost:8080/"
        },
        "id": "lOgkfiJYX0kp",
        "outputId": "c5f63020-9781-47bd-b709-1e1ab27dc9ab"
      },
      "execution_count": null,
      "outputs": [
        {
          "output_type": "execute_result",
          "data": {
            "text/plain": [
              "tensor([[[5.3729e-01, 7.1129e-01, 7.7095e-01, 3.1205e-01, 6.1295e-02,\n",
              "          7.7656e-01, 4.9392e-01, 7.6589e-01, 2.7159e-01, 9.5899e-01],\n",
              "         [4.8130e-01, 4.5931e-01, 1.0368e-02, 4.4902e-01, 3.3052e-01,\n",
              "          6.6471e-02, 5.3194e-01, 1.2754e-01, 2.8725e-01, 4.4608e-01],\n",
              "         [7.7898e-01, 4.3435e-01, 1.9826e-01, 9.6676e-01, 8.6063e-01,\n",
              "          6.9152e-01, 9.5889e-01, 8.9880e-02, 9.9855e-01, 7.8874e-02],\n",
              "         [4.2702e-01, 8.8791e-01, 5.8907e-01, 5.9315e-01, 6.4201e-01,\n",
              "          4.0142e-01, 1.5311e-01, 9.2736e-01, 1.3056e-01, 5.6771e-01],\n",
              "         [1.2449e-01, 6.6315e-01, 8.7934e-01, 1.4866e-01, 3.8449e-01,\n",
              "          5.7919e-01, 1.8810e-01, 3.6452e-01, 7.4208e-01, 6.9838e-01],\n",
              "         [5.6500e-01, 2.1748e-01, 1.3932e-01, 7.3112e-01, 9.1689e-01,\n",
              "          9.7956e-01, 8.6546e-01, 9.7191e-01, 4.7301e-01, 2.1727e-02],\n",
              "         [1.0540e-01, 1.6665e-02, 7.7077e-01, 7.1676e-01, 2.0070e-02,\n",
              "          3.1149e-01, 7.0811e-01, 6.0831e-01, 4.7874e-01, 1.3568e-01],\n",
              "         [7.7589e-01, 6.7689e-01, 8.6749e-01, 9.4278e-01, 2.1548e-01,\n",
              "          9.1842e-01, 5.8989e-01, 8.0565e-01, 7.3539e-01, 4.5358e-01],\n",
              "         [1.7185e-01, 2.5285e-01, 1.3933e-01, 5.2210e-01, 5.8295e-01,\n",
              "          7.7121e-02, 5.7348e-01, 2.7643e-01, 9.8186e-01, 8.6451e-01],\n",
              "         [4.0808e-01, 6.0738e-01, 9.3835e-01, 3.2996e-02, 1.7550e-01,\n",
              "          1.2642e-01, 8.4042e-01, 5.4307e-01, 2.4326e-01, 2.5362e-01]],\n",
              "\n",
              "        [[9.9253e-01, 4.0445e-01, 9.9410e-01, 4.3664e-01, 2.5793e-01,\n",
              "          6.1970e-02, 4.9680e-01, 5.4943e-01, 5.8911e-01, 8.7809e-01],\n",
              "         [3.8301e-02, 7.9339e-01, 3.3688e-01, 5.2661e-02, 4.9258e-01,\n",
              "          3.5465e-01, 8.6320e-01, 4.5867e-02, 8.1365e-01, 4.0210e-01],\n",
              "         [5.7751e-01, 7.3123e-01, 7.5701e-02, 5.0392e-01, 2.7693e-01,\n",
              "          1.5189e-01, 2.0105e-01, 7.7734e-01, 9.0332e-01, 8.1915e-01],\n",
              "         [2.4413e-01, 8.4796e-01, 9.8477e-02, 8.0526e-01, 7.7188e-01,\n",
              "          7.2284e-01, 8.5894e-01, 4.4537e-01, 4.3559e-01, 7.6949e-01],\n",
              "         [3.2461e-01, 3.8837e-01, 8.0687e-01, 8.7172e-01, 9.4866e-02,\n",
              "          3.3001e-01, 6.7946e-01, 5.9925e-01, 6.7871e-01, 6.1111e-01],\n",
              "         [3.7143e-01, 3.2146e-01, 1.0786e-01, 1.1648e-01, 8.6314e-01,\n",
              "          8.4220e-01, 1.2280e-01, 5.9084e-01, 7.7871e-01, 3.4564e-02],\n",
              "         [3.8618e-01, 9.7238e-01, 3.8488e-01, 4.4420e-01, 8.6787e-01,\n",
              "          5.2328e-01, 2.8970e-01, 8.0264e-01, 6.9416e-01, 3.7401e-01],\n",
              "         [3.2341e-01, 9.3921e-01, 6.4581e-01, 5.3150e-01, 7.7656e-01,\n",
              "          6.3912e-01, 9.5561e-01, 4.0199e-01, 7.8039e-01, 6.9979e-01],\n",
              "         [5.4302e-01, 7.1737e-01, 3.8600e-02, 8.5263e-01, 1.5802e-01,\n",
              "          1.2299e-02, 5.0635e-01, 7.2773e-01, 5.0090e-01, 6.3117e-01],\n",
              "         [4.4564e-01, 9.8398e-01, 1.5565e-01, 4.0655e-01, 6.5939e-01,\n",
              "          5.4439e-01, 7.8707e-01, 3.4192e-02, 4.5906e-01, 6.8978e-01]],\n",
              "\n",
              "        [[1.5187e-01, 3.1704e-01, 7.0106e-01, 1.0101e-01, 2.2145e-01,\n",
              "          1.3871e-01, 1.6397e-01, 7.2217e-01, 8.9339e-01, 9.9823e-01],\n",
              "         [5.3320e-01, 1.9803e-02, 9.2480e-01, 8.0335e-01, 9.4724e-01,\n",
              "          5.7576e-01, 8.9528e-01, 3.1547e-01, 9.7619e-01, 1.8362e-01],\n",
              "         [6.0047e-01, 8.0447e-02, 9.3686e-01, 8.8741e-02, 2.7461e-02,\n",
              "          5.4486e-02, 3.5889e-01, 7.3624e-01, 5.0382e-01, 4.5557e-01],\n",
              "         [9.7353e-02, 3.9284e-01, 9.8947e-01, 5.4450e-01, 2.5586e-01,\n",
              "          8.8954e-01, 6.2861e-01, 9.3659e-02, 4.1293e-01, 6.4002e-01],\n",
              "         [5.0409e-01, 5.9401e-01, 7.4373e-01, 2.8398e-01, 4.8057e-01,\n",
              "          5.6643e-01, 8.2391e-01, 6.4350e-01, 3.9633e-01, 2.4255e-01],\n",
              "         [8.8293e-01, 3.9702e-01, 2.0186e-01, 8.2856e-02, 2.7330e-01,\n",
              "          7.7472e-02, 8.8893e-01, 3.0067e-01, 7.6783e-01, 3.8031e-01],\n",
              "         [4.2879e-01, 5.3565e-01, 2.6780e-01, 5.1296e-01, 3.0270e-01,\n",
              "          7.9127e-01, 5.6917e-01, 8.1221e-01, 4.0174e-01, 7.7137e-01],\n",
              "         [6.1504e-01, 8.8518e-01, 3.7230e-01, 4.5132e-01, 4.8653e-02,\n",
              "          9.0193e-01, 4.3335e-01, 5.0797e-01, 1.1141e-01, 9.9348e-01],\n",
              "         [1.9813e-01, 5.7036e-02, 8.5612e-01, 2.1685e-02, 4.6027e-01,\n",
              "          6.0212e-01, 4.3768e-01, 4.4791e-01, 8.9887e-01, 4.5533e-01],\n",
              "         [6.7585e-01, 3.5095e-01, 6.7496e-01, 9.7839e-01, 6.5977e-01,\n",
              "          3.9781e-01, 9.2444e-01, 4.4653e-01, 2.6974e-01, 3.1564e-01]],\n",
              "\n",
              "        [[5.3023e-01, 3.7987e-01, 3.7316e-01, 3.7350e-01, 2.4609e-01,\n",
              "          4.6043e-01, 2.1225e-01, 3.2211e-02, 8.8745e-01, 4.1583e-02],\n",
              "         [7.4310e-01, 5.1210e-01, 8.8176e-01, 2.8655e-01, 8.7922e-01,\n",
              "          9.9550e-01, 2.2804e-01, 3.3177e-01, 7.5681e-01, 9.4106e-01],\n",
              "         [5.8702e-02, 3.7698e-01, 6.9113e-01, 8.6247e-01, 6.4820e-01,\n",
              "          6.3249e-01, 5.7012e-01, 4.8019e-01, 9.2963e-01, 6.1920e-01],\n",
              "         [5.2948e-02, 2.0587e-01, 1.3589e-01, 3.3057e-01, 3.9871e-01,\n",
              "          6.7431e-01, 7.4643e-01, 5.1031e-01, 9.0798e-01, 7.8452e-03],\n",
              "         [2.4338e-01, 6.4062e-01, 4.9295e-02, 3.3542e-01, 1.3803e-01,\n",
              "          2.8966e-01, 6.3921e-01, 6.2311e-01, 5.4553e-01, 3.4532e-02],\n",
              "         [2.9301e-01, 7.9935e-01, 3.5995e-01, 4.5453e-01, 8.8654e-01,\n",
              "          3.2432e-01, 7.2220e-01, 2.0819e-01, 3.9676e-02, 6.4507e-01],\n",
              "         [6.5112e-01, 3.0102e-02, 5.4864e-01, 8.8623e-01, 6.6614e-01,\n",
              "          7.6349e-01, 3.1822e-01, 8.9177e-01, 4.9744e-01, 6.0840e-01],\n",
              "         [5.7582e-01, 4.7012e-02, 2.2325e-01, 8.0731e-01, 8.0265e-02,\n",
              "          6.7853e-02, 9.0433e-01, 2.3974e-01, 9.1832e-01, 1.0150e-01],\n",
              "         [8.5190e-01, 7.2603e-01, 4.2484e-02, 2.0857e-01, 2.5901e-01,\n",
              "          9.1623e-01, 8.4901e-01, 5.9831e-01, 2.9639e-01, 6.5173e-01],\n",
              "         [9.2981e-01, 6.6412e-01, 3.9526e-02, 2.5122e-01, 8.1425e-01,\n",
              "          2.7271e-01, 7.0486e-01, 8.7105e-01, 7.2246e-01, 9.7312e-01]],\n",
              "\n",
              "        [[5.6882e-01, 7.9798e-01, 1.3457e-01, 1.9355e-01, 9.1057e-01,\n",
              "          2.3755e-01, 9.7806e-01, 9.4146e-01, 9.2314e-01, 2.5604e-01],\n",
              "         [5.9276e-01, 6.0337e-01, 4.1261e-01, 2.9148e-01, 8.1706e-01,\n",
              "          2.6325e-01, 3.7906e-01, 1.4478e-02, 8.2575e-01, 8.2748e-01],\n",
              "         [5.9398e-01, 9.1337e-01, 8.8285e-01, 4.7829e-01, 7.3557e-01,\n",
              "          2.6147e-01, 8.5845e-01, 4.2590e-03, 1.3398e-01, 8.9581e-01],\n",
              "         [6.2288e-01, 1.5202e-01, 7.9495e-01, 5.8457e-01, 1.7910e-01,\n",
              "          7.8395e-01, 1.7470e-01, 2.1900e-01, 3.2208e-01, 9.5139e-01],\n",
              "         [8.7681e-01, 2.3516e-01, 9.0982e-01, 3.8782e-01, 7.2103e-01,\n",
              "          4.2437e-01, 2.9952e-01, 7.7095e-01, 9.9630e-02, 1.5881e-01],\n",
              "         [7.8814e-01, 6.6042e-01, 3.6865e-01, 1.4485e-02, 9.2260e-01,\n",
              "          9.5633e-01, 8.0440e-01, 4.8043e-01, 7.4974e-01, 8.9025e-04],\n",
              "         [5.1509e-02, 3.6144e-01, 2.3921e-01, 7.0959e-01, 4.0810e-01,\n",
              "          6.4768e-01, 3.8958e-01, 3.7101e-01, 2.5046e-01, 9.1003e-01],\n",
              "         [7.6731e-01, 6.7319e-01, 3.2007e-01, 1.9379e-01, 5.3736e-01,\n",
              "          5.7435e-01, 4.4242e-01, 7.9413e-01, 2.9700e-01, 2.2094e-01],\n",
              "         [1.4537e-01, 5.0764e-02, 9.3554e-02, 5.5464e-01, 2.3817e-01,\n",
              "          2.7917e-01, 9.6220e-01, 5.5127e-01, 1.5266e-01, 4.0684e-01],\n",
              "         [7.6484e-01, 2.1986e-02, 1.8255e-02, 7.7657e-01, 1.4283e-01,\n",
              "          1.1563e-02, 5.6155e-01, 4.7886e-01, 2.4339e-01, 1.2058e-01]]])"
            ]
          },
          "metadata": {},
          "execution_count": 27
        }
      ]
    },
    {
      "cell_type": "code",
      "source": [
        "# we can use size also inside rand fuction\n",
        "torch.rand(size=(3,3))\n"
      ],
      "metadata": {
        "colab": {
          "base_uri": "https://localhost:8080/"
        },
        "id": "5wPz9LmUX5hZ",
        "outputId": "39f851fa-74d3-458f-df51-10c99aaffaef"
      },
      "execution_count": null,
      "outputs": [
        {
          "output_type": "execute_result",
          "data": {
            "text/plain": [
              "tensor([[0.6757, 0.3581, 0.1518],\n",
              "        [0.6423, 0.4790, 0.3175],\n",
              "        [0.8248, 0.8602, 0.1889]])"
            ]
          },
          "metadata": {},
          "execution_count": 28
        }
      ]
    },
    {
      "cell_type": "markdown",
      "source": [
        "### Zeroes and Ones  \n",
        "Used in mask values to in range of 0,1"
      ],
      "metadata": {
        "id": "EUdBNHeKY_cP"
      }
    },
    {
      "cell_type": "code",
      "source": [
        "# create a tensor of all zeros\n",
        "zeros = torch.zeros(size=(3,4))\n",
        "zeros"
      ],
      "metadata": {
        "colab": {
          "base_uri": "https://localhost:8080/"
        },
        "id": "VtbWm3wuY39i",
        "outputId": "5711dbe0-8cc9-483f-e1ec-55487bf0edc1"
      },
      "execution_count": null,
      "outputs": [
        {
          "output_type": "execute_result",
          "data": {
            "text/plain": [
              "tensor([[0., 0., 0., 0.],\n",
              "        [0., 0., 0., 0.],\n",
              "        [0., 0., 0., 0.]])"
            ]
          },
          "metadata": {},
          "execution_count": 29
        }
      ]
    },
    {
      "cell_type": "code",
      "source": [
        "zeros * random_tensor"
      ],
      "metadata": {
        "colab": {
          "base_uri": "https://localhost:8080/"
        },
        "id": "gGuVq4W6ZfGZ",
        "outputId": "50711976-997a-4cf9-92b8-077792e966f9"
      },
      "execution_count": null,
      "outputs": [
        {
          "output_type": "execute_result",
          "data": {
            "text/plain": [
              "tensor([[0., 0., 0., 0.],\n",
              "        [0., 0., 0., 0.],\n",
              "        [0., 0., 0., 0.]])"
            ]
          },
          "metadata": {},
          "execution_count": 30
        }
      ]
    },
    {
      "cell_type": "code",
      "source": [
        "# create a tensor of all 1's\n",
        "ones = torch.ones(size=(3,4))\n",
        "ones"
      ],
      "metadata": {
        "colab": {
          "base_uri": "https://localhost:8080/"
        },
        "id": "3nKrZZtgZt0q",
        "outputId": "5e19d5b1-6207-4b22-d920-dde6cde5d2c4"
      },
      "execution_count": null,
      "outputs": [
        {
          "output_type": "execute_result",
          "data": {
            "text/plain": [
              "tensor([[1., 1., 1., 1.],\n",
              "        [1., 1., 1., 1.],\n",
              "        [1., 1., 1., 1.]])"
            ]
          },
          "metadata": {},
          "execution_count": 31
        }
      ]
    },
    {
      "cell_type": "code",
      "source": [
        "# dtype gives data type\n",
        "ones.dtype"
      ],
      "metadata": {
        "colab": {
          "base_uri": "https://localhost:8080/"
        },
        "id": "SRvFuiJhZ2zA",
        "outputId": "6346b056-58c5-45e8-db6c-1ee1ed15e107"
      },
      "execution_count": null,
      "outputs": [
        {
          "output_type": "execute_result",
          "data": {
            "text/plain": [
              "torch.float32"
            ]
          },
          "metadata": {},
          "execution_count": 32
        }
      ]
    },
    {
      "cell_type": "code",
      "source": [
        "# by default torch gives us float values\n",
        "random_tensor.dtype"
      ],
      "metadata": {
        "colab": {
          "base_uri": "https://localhost:8080/"
        },
        "id": "vj5HepPJaExl",
        "outputId": "7b8c0c03-d521-4a6a-c0ce-02c648f42981"
      },
      "execution_count": null,
      "outputs": [
        {
          "output_type": "execute_result",
          "data": {
            "text/plain": [
              "torch.float32"
            ]
          },
          "metadata": {},
          "execution_count": 33
        }
      ]
    },
    {
      "cell_type": "markdown",
      "source": [
        "## creating a range of tensors and tensors-like"
      ],
      "metadata": {
        "id": "y9RRmU_NaiDX"
      }
    },
    {
      "cell_type": "code",
      "source": [
        "# use torch.range() will deprecate in future so don't use\n",
        "torch.range(0, 10)"
      ],
      "metadata": {
        "colab": {
          "base_uri": "https://localhost:8080/"
        },
        "id": "-vVRp2bpaS4C",
        "outputId": "a7b67b80-0485-4642-ffa5-d42ace89b44c"
      },
      "execution_count": null,
      "outputs": [
        {
          "output_type": "stream",
          "name": "stderr",
          "text": [
            "<ipython-input-34-d6e4fa2f3546>:2: UserWarning: torch.range is deprecated and will be removed in a future release because its behavior is inconsistent with Python's range builtin. Instead, use torch.arange, which produces values in [start, end).\n",
            "  torch.range(0, 10)\n"
          ]
        },
        {
          "output_type": "execute_result",
          "data": {
            "text/plain": [
              "tensor([ 0.,  1.,  2.,  3.,  4.,  5.,  6.,  7.,  8.,  9., 10.])"
            ]
          },
          "metadata": {},
          "execution_count": 34
        }
      ]
    },
    {
      "cell_type": "code",
      "source": [
        "# use arange instead of range\n",
        "torch.arange(0,10)"
      ],
      "metadata": {
        "colab": {
          "base_uri": "https://localhost:8080/"
        },
        "id": "1T9fc0cva1lO",
        "outputId": "80942fad-5bb9-4efc-acc4-638c6da029aa"
      },
      "execution_count": null,
      "outputs": [
        {
          "output_type": "execute_result",
          "data": {
            "text/plain": [
              "tensor([0, 1, 2, 3, 4, 5, 6, 7, 8, 9])"
            ]
          },
          "metadata": {},
          "execution_count": 35
        }
      ]
    },
    {
      "cell_type": "code",
      "source": [
        "# from 1 to 10\n",
        "one_to_ten = torch.arange(1, 11)\n",
        "one_to_ten"
      ],
      "metadata": {
        "colab": {
          "base_uri": "https://localhost:8080/"
        },
        "id": "nS1RnfIAbFPh",
        "outputId": "d194639c-51b1-4620-84ba-2b007313a547"
      },
      "execution_count": null,
      "outputs": [
        {
          "output_type": "execute_result",
          "data": {
            "text/plain": [
              "tensor([ 1,  2,  3,  4,  5,  6,  7,  8,  9, 10])"
            ]
          },
          "metadata": {},
          "execution_count": 36
        }
      ]
    },
    {
      "cell_type": "code",
      "source": [
        "# check documentation of arange\n",
        "test = torch.arange(start=0, end=1000, step=50)\n",
        "test"
      ],
      "metadata": {
        "colab": {
          "base_uri": "https://localhost:8080/"
        },
        "id": "4yG1bZ8TbQcJ",
        "outputId": "cf8f6f85-99fa-4993-cc8f-c85665020405"
      },
      "execution_count": null,
      "outputs": [
        {
          "output_type": "execute_result",
          "data": {
            "text/plain": [
              "tensor([  0,  50, 100, 150, 200, 250, 300, 350, 400, 450, 500, 550, 600, 650,\n",
              "        700, 750, 800, 850, 900, 950])"
            ]
          },
          "metadata": {},
          "execution_count": 37
        }
      ]
    },
    {
      "cell_type": "code",
      "source": [
        "one_to_ten = torch.arange(start=1, end=11, step=1)\n",
        "one_to_ten"
      ],
      "metadata": {
        "colab": {
          "base_uri": "https://localhost:8080/"
        },
        "id": "qC54MZBwbrZB",
        "outputId": "42671522-243e-4394-9235-4d7694c68195"
      },
      "execution_count": null,
      "outputs": [
        {
          "output_type": "execute_result",
          "data": {
            "text/plain": [
              "tensor([ 1,  2,  3,  4,  5,  6,  7,  8,  9, 10])"
            ]
          },
          "metadata": {},
          "execution_count": 38
        }
      ]
    },
    {
      "cell_type": "code",
      "source": [
        "# creating tensors like\n",
        "ten_zeros = torch.zeros_like(input=one_to_ten)\n",
        "ten_zeros"
      ],
      "metadata": {
        "colab": {
          "base_uri": "https://localhost:8080/"
        },
        "id": "8tTEDAtlb3-J",
        "outputId": "895804fd-2456-4ef8-bed4-5b2bc7a53ca8"
      },
      "execution_count": null,
      "outputs": [
        {
          "output_type": "execute_result",
          "data": {
            "text/plain": [
              "tensor([0, 0, 0, 0, 0, 0, 0, 0, 0, 0])"
            ]
          },
          "metadata": {},
          "execution_count": 39
        }
      ]
    },
    {
      "cell_type": "markdown",
      "source": [
        "## Tensor datatypes  \n",
        "**Note** Tensor datatypes is one of the **3 big erros** you'll  run into with torch and in DL.  \n",
        "1. Tensors not right datatype  \n",
        "2. Tensors not right shape.  \n",
        "3. Tensors not on the right device. (cpu, cuda, gpu etc.)"
      ],
      "metadata": {
        "id": "iv8b21TBc-4D"
      }
    },
    {
      "cell_type": "code",
      "source": [
        "# float 32 tensor\n",
        "f32tensor = torch.tensor([3.0,6.0,9.0],\n",
        "                         dtype=None, # what datatype is the tensor float32 or float16\n",
        "                         device=None, # what device is your tensor on,  cpu, gpu, cuda or etc.\n",
        "                         requires_grad=False) # wheather or not to track gradients with this tensors operations\n",
        "\n",
        "f32tensor"
      ],
      "metadata": {
        "colab": {
          "base_uri": "https://localhost:8080/"
        },
        "id": "bRVmlqERceqR",
        "outputId": "1182d3e5-f651-4fd2-e07f-47360946a8d0"
      },
      "execution_count": null,
      "outputs": [
        {
          "output_type": "execute_result",
          "data": {
            "text/plain": [
              "tensor([3., 6., 9.])"
            ]
          },
          "metadata": {},
          "execution_count": 40
        }
      ]
    },
    {
      "cell_type": "code",
      "source": [
        "f32tensor.dtype"
      ],
      "metadata": {
        "colab": {
          "base_uri": "https://localhost:8080/"
        },
        "id": "a2HZbyXXdTee",
        "outputId": "145ed9aa-5f24-49f7-a276-2d40e9197d04"
      },
      "execution_count": null,
      "outputs": [
        {
          "output_type": "execute_result",
          "data": {
            "text/plain": [
              "torch.float32"
            ]
          },
          "metadata": {},
          "execution_count": 41
        }
      ]
    },
    {
      "cell_type": "code",
      "source": [
        "# you can change data type also\n",
        "#f32tensor = torch.tensor([3.0,6.0,9.0], dtype=torch.float16)\n",
        "f32tensor.dtype"
      ],
      "metadata": {
        "colab": {
          "base_uri": "https://localhost:8080/"
        },
        "id": "M8N4gKn4dY_Y",
        "outputId": "99be7ca9-6981-4f48-bcd8-65e8724bfd88"
      },
      "execution_count": null,
      "outputs": [
        {
          "output_type": "execute_result",
          "data": {
            "text/plain": [
              "torch.float32"
            ]
          },
          "metadata": {},
          "execution_count": 42
        }
      ]
    },
    {
      "cell_type": "code",
      "source": [
        "# change data type f31 to f16\n",
        "f16tensor = f32tensor.type(torch.float16) # half for float16\n",
        "f16tensor"
      ],
      "metadata": {
        "colab": {
          "base_uri": "https://localhost:8080/"
        },
        "id": "jTNnKVVFdzKJ",
        "outputId": "61f4534b-b7a8-4bdc-bc16-fa02f77ceb6d"
      },
      "execution_count": null,
      "outputs": [
        {
          "output_type": "execute_result",
          "data": {
            "text/plain": [
              "tensor([3., 6., 9.], dtype=torch.float16)"
            ]
          },
          "metadata": {},
          "execution_count": 43
        }
      ]
    },
    {
      "cell_type": "markdown",
      "source": [
        "2Hrs:02 min Done Will continue on Monday"
      ],
      "metadata": {
        "id": "-bMycuZ0gzej"
      }
    },
    {
      "cell_type": "code",
      "source": [
        "# Run multiple examples and play with different datatypes of tensors\n",
        "\n",
        "f16tensor * f32tensor"
      ],
      "metadata": {
        "colab": {
          "base_uri": "https://localhost:8080/"
        },
        "id": "AWOJS5CorMtc",
        "outputId": "cfac1c71-4027-4da4-e7a8-1b6736806e19"
      },
      "execution_count": null,
      "outputs": [
        {
          "output_type": "execute_result",
          "data": {
            "text/plain": [
              "tensor([ 9., 36., 81.])"
            ]
          },
          "metadata": {},
          "execution_count": 44
        }
      ]
    },
    {
      "cell_type": "code",
      "source": [
        "int32tensor =  torch.tensor([2, 7, 9], dtype=torch.int32)\n",
        "int32tensor"
      ],
      "metadata": {
        "colab": {
          "base_uri": "https://localhost:8080/"
        },
        "id": "JlN0r_hBriZe",
        "outputId": "01e78c0f-3176-4873-b356-76ed8fa3064b"
      },
      "execution_count": null,
      "outputs": [
        {
          "output_type": "execute_result",
          "data": {
            "text/plain": [
              "tensor([2, 7, 9], dtype=torch.int32)"
            ]
          },
          "metadata": {},
          "execution_count": 45
        }
      ]
    },
    {
      "cell_type": "code",
      "source": [
        "f32tensor * int32tensor"
      ],
      "metadata": {
        "colab": {
          "base_uri": "https://localhost:8080/"
        },
        "id": "P9i2HSu4sTNQ",
        "outputId": "bc884d65-8841-459a-da3f-1885d5f6fbac"
      },
      "execution_count": null,
      "outputs": [
        {
          "output_type": "execute_result",
          "data": {
            "text/plain": [
              "tensor([ 6., 42., 81.])"
            ]
          },
          "metadata": {},
          "execution_count": 46
        }
      ]
    },
    {
      "cell_type": "markdown",
      "source": [
        "### disallowed (RuntimeError: result type can't be cast to the desired output type):\n",
        "\n",
        "`>>> int_tensor *= float_tensor`   \n",
        "`>>> bool_tensor *= int_tensor`  \n",
        "`>>> bool_tensor *= uint_tensor`  \n",
        "`>>> float_tensor *=complex_float_tensor`    \n",
        "\n",
        "Remember it!"
      ],
      "metadata": {
        "id": "gJQaeoFjuTe8"
      }
    },
    {
      "cell_type": "code",
      "source": [
        "# THIS IS INTENTIONALLY CREATED ERROR\n",
        "\n",
        "# char * int not allowed (Will create error)\n",
        "# charTensor = torch.tensor(['a', 'b', 'c'] dtype=torch.char)\n",
        "\n",
        "# int32tensor * charTensor"
      ],
      "metadata": {
        "id": "uTkFfQZcslZ8"
      },
      "execution_count": null,
      "outputs": []
    },
    {
      "cell_type": "markdown",
      "source": [
        "### Getting information from tensors  (Tensor Attributes)\n",
        "1. Tensors not right datatype - to do get datatype from a tensor, you can use `tensor.dtype`\n",
        "2. Tensors not right shape. - to get shape from a tensor, you can use `tensor.shape`\n",
        "3. Tensors not on the right device - to get device from a tensor, you can use `tensor.device`"
      ],
      "metadata": {
        "id": "Iu0UATvtvCp2"
      }
    },
    {
      "cell_type": "code",
      "source": [
        "# create some tensor\n",
        "random_tensor = torch.rand(3,4)\n",
        "random_tensor"
      ],
      "metadata": {
        "colab": {
          "base_uri": "https://localhost:8080/"
        },
        "id": "Ib6K7Cugt2kO",
        "outputId": "aec7a876-511d-44ee-a6fe-ebee25f621f2"
      },
      "execution_count": null,
      "outputs": [
        {
          "output_type": "execute_result",
          "data": {
            "text/plain": [
              "tensor([[0.3578, 0.2234, 0.1784, 0.7085],\n",
              "        [0.4478, 0.4785, 0.9350, 0.4761],\n",
              "        [0.0428, 0.7922, 0.3554, 0.4676]])"
            ]
          },
          "metadata": {},
          "execution_count": 48
        }
      ]
    },
    {
      "cell_type": "code",
      "source": [
        "# let's find information about this random tensor\n",
        "random_tensor.dtype, random_tensor.shape, random_tensor.device"
      ],
      "metadata": {
        "colab": {
          "base_uri": "https://localhost:8080/"
        },
        "id": "EC2bcT-vwHDt",
        "outputId": "509f4681-ce75-4c29-ac01-39d88255383a"
      },
      "execution_count": null,
      "outputs": [
        {
          "output_type": "execute_result",
          "data": {
            "text/plain": [
              "(torch.float32, torch.Size([3, 4]), device(type='cpu'))"
            ]
          },
          "metadata": {},
          "execution_count": 49
        }
      ]
    },
    {
      "cell_type": "code",
      "source": [
        "# tensor_name.size() and tensor.shape gives same output\n",
        "\n",
        "print(random_tensor);\n",
        "print(f\"The shape is: {random_tensor.shape}\")\n",
        "print(f\"Size is same but its function : {random_tensor.size()}\")\n"
      ],
      "metadata": {
        "colab": {
          "base_uri": "https://localhost:8080/"
        },
        "id": "V76bIKJcwSa9",
        "outputId": "67ff3ad8-96e0-4245-98af-8c9b7380b4e5"
      },
      "execution_count": null,
      "outputs": [
        {
          "output_type": "stream",
          "name": "stdout",
          "text": [
            "tensor([[0.3578, 0.2234, 0.1784, 0.7085],\n",
            "        [0.4478, 0.4785, 0.9350, 0.4761],\n",
            "        [0.0428, 0.7922, 0.3554, 0.4676]])\n",
            "The shape is: torch.Size([3, 4])\n",
            "Size is same but its function : torch.Size([3, 4])\n"
          ]
        }
      ]
    },
    {
      "cell_type": "markdown",
      "source": [
        "#### Manipulating Tensors (tensor operations)  \n",
        "includes  \n",
        "1. Addition  \n",
        "2. Substraction  \n",
        "3. Multiplication (element-wise)  \n",
        "4. Division  \n",
        "5. Matrix multiplication  \n"
      ],
      "metadata": {
        "id": "XGqqd4x4yPIt"
      }
    },
    {
      "cell_type": "code",
      "source": [
        "# scalar addition (add 10)\n",
        "tensor = torch.tensor([5, 6, 7])\n",
        "tensor + 10"
      ],
      "metadata": {
        "colab": {
          "base_uri": "https://localhost:8080/"
        },
        "id": "TlbOhevdyZvr",
        "outputId": "92e16e26-e64b-4105-cf3e-a35f3f0cf61d"
      },
      "execution_count": null,
      "outputs": [
        {
          "output_type": "execute_result",
          "data": {
            "text/plain": [
              "tensor([15, 16, 17])"
            ]
          },
          "metadata": {},
          "execution_count": 51
        }
      ]
    },
    {
      "cell_type": "code",
      "source": [
        "# scalar multiplication (Element wise)\n",
        "tensor * 10"
      ],
      "metadata": {
        "colab": {
          "base_uri": "https://localhost:8080/"
        },
        "id": "JXmLWlw17flR",
        "outputId": "6bcd2318-ff59-43a3-acf5-69566f4ad9a2"
      },
      "execution_count": null,
      "outputs": [
        {
          "output_type": "execute_result",
          "data": {
            "text/plain": [
              "tensor([50, 60, 70])"
            ]
          },
          "metadata": {},
          "execution_count": 52
        }
      ]
    },
    {
      "cell_type": "code",
      "source": [
        "# tensor substraction\n",
        "tensor - 10\n"
      ],
      "metadata": {
        "colab": {
          "base_uri": "https://localhost:8080/"
        },
        "id": "wyPlT0Q37ryV",
        "outputId": "53bd14cd-78f7-4fdf-e91b-12e3bbc0c039"
      },
      "execution_count": null,
      "outputs": [
        {
          "output_type": "execute_result",
          "data": {
            "text/plain": [
              "tensor([-5, -4, -3])"
            ]
          },
          "metadata": {},
          "execution_count": 53
        }
      ]
    },
    {
      "cell_type": "code",
      "source": [
        "# Trying PyTorch Built-in functions\n",
        "\n",
        "# same as above scalar multiplication\n",
        "torch.mul(tensor, 10)"
      ],
      "metadata": {
        "colab": {
          "base_uri": "https://localhost:8080/"
        },
        "id": "yFLHOdle8C-d",
        "outputId": "351ae865-6b26-4e89-8033-0962658d0b51"
      },
      "execution_count": null,
      "outputs": [
        {
          "output_type": "execute_result",
          "data": {
            "text/plain": [
              "tensor([50, 60, 70])"
            ]
          },
          "metadata": {},
          "execution_count": 54
        }
      ]
    },
    {
      "cell_type": "code",
      "source": [
        "# same with torch.add()\n",
        "torch.add(tensor,10)"
      ],
      "metadata": {
        "colab": {
          "base_uri": "https://localhost:8080/"
        },
        "id": "QtgO4N0B8VF2",
        "outputId": "effe23b3-ba65-4290-b1ad-84e209310efc"
      },
      "execution_count": null,
      "outputs": [
        {
          "output_type": "execute_result",
          "data": {
            "text/plain": [
              "tensor([15, 16, 17])"
            ]
          },
          "metadata": {},
          "execution_count": 55
        }
      ]
    },
    {
      "cell_type": "markdown",
      "source": [
        "### Matrix Multiplication  \n",
        "\n",
        "Two main ways to multiply in neural networks & deep learnings  \n",
        "\n",
        "1. Element wise (Scalar Mul)\n",
        "2. Matrix multiplication (dot product)"
      ],
      "metadata": {
        "id": "TqU9hJ4i831Y"
      }
    },
    {
      "cell_type": "code",
      "source": [
        " mat1 = torch.tensor([[1,2,3],\n",
        "                     [4,5,6]], dtype=torch.int32)\n",
        " mat2 = torch.tensor([[7,8],\n",
        "                     [9,10],\n",
        "                     [11,12]], dtype=torch.int32)\n",
        "\n",
        " mat1.shape, mat2.shape"
      ],
      "metadata": {
        "colab": {
          "base_uri": "https://localhost:8080/"
        },
        "id": "Zs_25ltf8osO",
        "outputId": "000d33f2-1424-4efc-c805-ec0917c8ceea"
      },
      "execution_count": null,
      "outputs": [
        {
          "output_type": "execute_result",
          "data": {
            "text/plain": [
              "(torch.Size([2, 3]), torch.Size([3, 2]))"
            ]
          },
          "metadata": {},
          "execution_count": 56
        }
      ]
    },
    {
      "cell_type": "code",
      "source": [
        "# Element wise (scalar) multiplication\n",
        "\n",
        "# tensor * tensor\n",
        "\n",
        "print(tensor,  '*', tensor)\n",
        "print(f\"Equals: {tensor * tensor}\")"
      ],
      "metadata": {
        "colab": {
          "base_uri": "https://localhost:8080/"
        },
        "id": "ReWcXcWm__Co",
        "outputId": "e62135b2-0dd0-4818-898b-88a900e7c340"
      },
      "execution_count": null,
      "outputs": [
        {
          "output_type": "stream",
          "name": "stdout",
          "text": [
            "tensor([5, 6, 7]) * tensor([5, 6, 7])\n",
            "Equals: tensor([25, 36, 49])\n"
          ]
        }
      ]
    },
    {
      "cell_type": "code",
      "source": [
        "# matrix multiplication\n",
        "\n",
        "torch.matmul(tensor, tensor)"
      ],
      "metadata": {
        "colab": {
          "base_uri": "https://localhost:8080/"
        },
        "id": "oiAH9Jl-AvLe",
        "outputId": "c8d5f0ac-9958-4aa6-bdeb-7feaafe64357"
      },
      "execution_count": null,
      "outputs": [
        {
          "output_type": "execute_result",
          "data": {
            "text/plain": [
              "tensor(110)"
            ]
          },
          "metadata": {},
          "execution_count": 58
        }
      ]
    },
    {
      "cell_type": "markdown",
      "source": [
        "###One of the most common errors in DL and NN are shape errors  \n",
        "\n",
        "See Visualizations of matrix multiplication in   `matrixmultiplication.xyz`\n",
        "\n",
        "Their are two main rules that performing matrix multiplication needs to satisfy:  \n",
        "1. The **inner dimentions** must match:  \n",
        "\n",
        "@ is equal to matmul function\n",
        "\n",
        "`(3, 2) @ (3, 2)` won't work   \n",
        "`(2, 3) @ (3, 2)` will work  \n",
        "`(3, 2) @ (2, 3)` will work  \n",
        "\n",
        "2. The resulting matrix has the shape of the **outer dimensions**:  \n",
        "* `(2, 3) @ (3, 2)` -> `(2, 2)`\n",
        "* `(3, 2) @ (2, 3)` -> `(3, 3)`"
      ],
      "metadata": {
        "id": "uvgUluaCDLHp"
      }
    },
    {
      "cell_type": "code",
      "source": [
        "# matrix multiplication of 2 matrices\n",
        "# here %%time gives cpu time\n",
        "%%time\n",
        "torch.matmul(mat1, mat2)"
      ],
      "metadata": {
        "colab": {
          "base_uri": "https://localhost:8080/"
        },
        "id": "dacvsLTA-Uwv",
        "outputId": "cfb05e00-78db-4ca2-bbf7-72c7746d624a"
      },
      "execution_count": null,
      "outputs": [
        {
          "output_type": "stream",
          "name": "stdout",
          "text": [
            "CPU times: user 1.59 ms, sys: 0 ns, total: 1.59 ms\n",
            "Wall time: 1.54 ms\n"
          ]
        },
        {
          "output_type": "execute_result",
          "data": {
            "text/plain": [
              "tensor([[ 58,  64],\n",
              "        [139, 154]], dtype=torch.int32)"
            ]
          },
          "metadata": {},
          "execution_count": 59
        }
      ]
    },
    {
      "cell_type": "code",
      "source": [
        "mat1 @ mat2  # @ is short form for matmul"
      ],
      "metadata": {
        "colab": {
          "base_uri": "https://localhost:8080/"
        },
        "id": "d_cTgbDFD6oJ",
        "outputId": "0a1e018c-f096-41a0-cd40-6d04b4a17a1b"
      },
      "execution_count": null,
      "outputs": [
        {
          "output_type": "execute_result",
          "data": {
            "text/plain": [
              "tensor([[ 58,  64],\n",
              "        [139, 154]], dtype=torch.int32)"
            ]
          },
          "metadata": {},
          "execution_count": 60
        }
      ]
    },
    {
      "cell_type": "markdown",
      "source": [
        "### The most common error in PyTorch or Tensorflow  \n",
        "RuntimeError: mat1 and mat2 shapes cannot be multiplied (3x2 and 3x2)\n",
        "\n",
        "inner dim must be equal  \n",
        "`(3, 2) @ (3, 2)` won't work  "
      ],
      "metadata": {
        "id": "lV2eni6ixedk"
      }
    },
    {
      "cell_type": "code",
      "source": [
        "# will generate error\n",
        "# torch.rand(3, 2) @ torch.rand(3, 2)"
      ],
      "metadata": {
        "id": "4fMrQLBYwkBA"
      },
      "execution_count": null,
      "outputs": []
    },
    {
      "cell_type": "code",
      "source": [
        "# When inner dimensions match\n",
        "torch.rand(3, 2) @ torch.rand(2, 3)"
      ],
      "metadata": {
        "colab": {
          "base_uri": "https://localhost:8080/"
        },
        "id": "ho6x-XXoxrdb",
        "outputId": "689b742b-19ad-4ace-ebc2-14cfc300a0ba"
      },
      "execution_count": null,
      "outputs": [
        {
          "output_type": "execute_result",
          "data": {
            "text/plain": [
              "tensor([[0.6925, 0.0972, 0.6818],\n",
              "        [0.5047, 0.0629, 0.4899],\n",
              "        [0.5697, 0.2204, 0.6837]])"
            ]
          },
          "metadata": {},
          "execution_count": 62
        }
      ]
    },
    {
      "cell_type": "markdown",
      "source": [
        "### Most common errors in DL: (shape errors)"
      ],
      "metadata": {
        "id": "KLrJLMbL0-cK"
      }
    },
    {
      "cell_type": "code",
      "source": [
        "# shapes for matrix multiplication\n",
        "\n",
        "tensor_A = torch.tensor([[1,2],\n",
        "                         [3,4],\n",
        "                         [5,6]])\n",
        "\n",
        "tensor_B = torch.tensor([[7, 11],\n",
        "                         [8, 12],\n",
        "                         [9, 13]])\n",
        "\n",
        "# torch.mm is the alias for less code for matmul\n",
        "# torch.mm(tensor_A, tensor_B)  # SHAPE ERROR\n",
        "\n",
        "# to fix our problem we have to manipulate the shape of one of our tensors using\n",
        "# a transpose operation. (switching the axes or dimentions of a given tensor)\n",
        "\n",
        "tensor_B.T, tensor_B.T.shape\n"
      ],
      "metadata": {
        "colab": {
          "base_uri": "https://localhost:8080/"
        },
        "id": "9oxbz8FmyjdT",
        "outputId": "17a5e1eb-65df-4ee2-acec-8cff36ce4264"
      },
      "execution_count": null,
      "outputs": [
        {
          "output_type": "execute_result",
          "data": {
            "text/plain": [
              "(tensor([[ 7,  8,  9],\n",
              "         [11, 12, 13]]),\n",
              " torch.Size([2, 3]))"
            ]
          },
          "metadata": {},
          "execution_count": 63
        }
      ]
    },
    {
      "cell_type": "code",
      "source": [
        "tensor_A.shape, tensor_B.shape"
      ],
      "metadata": {
        "colab": {
          "base_uri": "https://localhost:8080/"
        },
        "id": "LS4ePmgR2R3z",
        "outputId": "841d8745-9fac-4344-8c5d-8ff8526eb88f"
      },
      "execution_count": null,
      "outputs": [
        {
          "output_type": "execute_result",
          "data": {
            "text/plain": [
              "(torch.Size([3, 2]), torch.Size([3, 2]))"
            ]
          },
          "metadata": {},
          "execution_count": 64
        }
      ]
    },
    {
      "cell_type": "code",
      "source": [
        "torch.matmul(tensor_A, tensor_B.T)"
      ],
      "metadata": {
        "colab": {
          "base_uri": "https://localhost:8080/"
        },
        "id": "SUreEyaL5G8e",
        "outputId": "7167c862-3982-4a3c-b582-168d0de94688"
      },
      "execution_count": null,
      "outputs": [
        {
          "output_type": "execute_result",
          "data": {
            "text/plain": [
              "tensor([[ 29,  32,  35],\n",
              "        [ 65,  72,  79],\n",
              "        [101, 112, 123]])"
            ]
          },
          "metadata": {},
          "execution_count": 65
        }
      ]
    },
    {
      "cell_type": "code",
      "source": [
        "# The matrix multiplication operation works when tensor_B is transposed\n",
        "\n",
        "print(f\"Original shapes: tensor_A = {tensor_A.shape}, tensor_B = {tensor_B.shape}\")\n",
        "print(f\"New Shapes: tensor_A = {tensor_A.shape} (same shape as above), tensor_B.T = {tensor_B.T.shape}\")\n",
        "print(f\"Multiplying: {tensor_A.shape} @ {tensor_B.T.shape} inner dimensions matched\")\n",
        "print(\"Output:\\n\")\n",
        "\n",
        "output = torch.matmul(tensor_A, tensor_B.T)\n",
        "print(output)\n",
        "print(f\"\\nOutput shape: {output.shape}\")\n",
        "#"
      ],
      "metadata": {
        "colab": {
          "base_uri": "https://localhost:8080/"
        },
        "id": "tRFiBJbN5V4x",
        "outputId": "64f52e72-c9bd-462b-fab8-8aaa0281b921"
      },
      "execution_count": null,
      "outputs": [
        {
          "output_type": "stream",
          "name": "stdout",
          "text": [
            "Original shapes: tensor_A = torch.Size([3, 2]), tensor_B = torch.Size([3, 2])\n",
            "New Shapes: tensor_A = torch.Size([3, 2]) (same shape as above), tensor_B.T = torch.Size([2, 3])\n",
            "Multiplying: torch.Size([3, 2]) @ torch.Size([2, 3]) inner dimensions matched\n",
            "Output:\n",
            "\n",
            "tensor([[ 29,  32,  35],\n",
            "        [ 65,  72,  79],\n",
            "        [101, 112, 123]])\n",
            "\n",
            "Output shape: torch.Size([3, 3])\n"
          ]
        }
      ]
    },
    {
      "cell_type": "markdown",
      "source": [
        "## Finding the min, max, mean and sum etc. (Tensor aggregations)  \n"
      ],
      "metadata": {
        "id": "tiXukBi3HLV9"
      }
    },
    {
      "cell_type": "code",
      "source": [
        "# lets create a tensor\n",
        "x = torch.arange(1, 100, 10)\n",
        "x, x.dtype"
      ],
      "metadata": {
        "colab": {
          "base_uri": "https://localhost:8080/"
        },
        "id": "oelCckRoHbYJ",
        "outputId": "ca9491e1-bda1-4ae1-ec3b-dca45bc95b25"
      },
      "execution_count": null,
      "outputs": [
        {
          "output_type": "execute_result",
          "data": {
            "text/plain": [
              "(tensor([ 1, 11, 21, 31, 41, 51, 61, 71, 81, 91]), torch.int64)"
            ]
          },
          "metadata": {},
          "execution_count": 72
        }
      ]
    },
    {
      "cell_type": "code",
      "source": [
        "# Find the min\n",
        "torch.min(x), x.min()"
      ],
      "metadata": {
        "colab": {
          "base_uri": "https://localhost:8080/"
        },
        "id": "IVwddlVnHqnX",
        "outputId": "668d1859-3d62-452e-a8ba-5649bbd281ac"
      },
      "execution_count": null,
      "outputs": [
        {
          "output_type": "execute_result",
          "data": {
            "text/plain": [
              "(tensor(1), tensor(1))"
            ]
          },
          "metadata": {},
          "execution_count": 69
        }
      ]
    },
    {
      "cell_type": "code",
      "source": [
        "# find the man of tensor\n",
        "torch.max(x), x.max()"
      ],
      "metadata": {
        "colab": {
          "base_uri": "https://localhost:8080/"
        },
        "id": "mfHarvTxHyV3",
        "outputId": "84987d74-a282-4037-bd3c-906ae3a115a5"
      },
      "execution_count": null,
      "outputs": [
        {
          "output_type": "execute_result",
          "data": {
            "text/plain": [
              "(tensor(91), tensor(91))"
            ]
          },
          "metadata": {},
          "execution_count": 70
        }
      ]
    },
    {
      "cell_type": "code",
      "source": [
        "# find the mean (float, or complex data type)\n",
        "# torch.mean(x) # datatype mismatch its long\n",
        "\n",
        "torch.mean(x.type(torch.float32)), x.type(torch.float32).mean()"
      ],
      "metadata": {
        "colab": {
          "base_uri": "https://localhost:8080/"
        },
        "id": "iLNOwRGSH_pv",
        "outputId": "a77ea007-0668-46a8-c1f9-d7c91b70501f"
      },
      "execution_count": null,
      "outputs": [
        {
          "output_type": "execute_result",
          "data": {
            "text/plain": [
              "(tensor(46.), tensor(46.))"
            ]
          },
          "metadata": {},
          "execution_count": 74
        }
      ]
    },
    {
      "cell_type": "code",
      "source": [
        "# find the sum\n",
        "torch.sum(x), x.sum()"
      ],
      "metadata": {
        "colab": {
          "base_uri": "https://localhost:8080/"
        },
        "id": "pQgC3hkfIPPM",
        "outputId": "20c24730-9466-47ec-87b9-74eefe295206"
      },
      "execution_count": null,
      "outputs": [
        {
          "output_type": "execute_result",
          "data": {
            "text/plain": [
              "(tensor(460), tensor(460))"
            ]
          },
          "metadata": {},
          "execution_count": 75
        }
      ]
    },
    {
      "cell_type": "markdown",
      "source": [
        "### Finding the positional min and max"
      ],
      "metadata": {
        "id": "gdScne8KKwr1"
      }
    },
    {
      "cell_type": "code",
      "source": [
        "x"
      ],
      "metadata": {
        "colab": {
          "base_uri": "https://localhost:8080/"
        },
        "id": "po3Fbm0DK8WQ",
        "outputId": "83c77318-edbc-43de-cc23-fcde03f00007"
      },
      "execution_count": null,
      "outputs": [
        {
          "output_type": "execute_result",
          "data": {
            "text/plain": [
              "tensor([ 1, 11, 21, 31, 41, 51, 61, 71, 81, 91])"
            ]
          },
          "metadata": {},
          "execution_count": 76
        }
      ]
    },
    {
      "cell_type": "code",
      "source": [
        "# find the position in tensor that has the minimum value with argmin()\n",
        "x.argmin() # it returns index position of target tensor where the min value occurs"
      ],
      "metadata": {
        "colab": {
          "base_uri": "https://localhost:8080/"
        },
        "id": "kEjlPRSrK9-4",
        "outputId": "d9acddad-499f-429a-9e67-424f685c1431"
      },
      "execution_count": null,
      "outputs": [
        {
          "output_type": "execute_result",
          "data": {
            "text/plain": [
              "tensor(0)"
            ]
          },
          "metadata": {},
          "execution_count": 77
        }
      ]
    },
    {
      "cell_type": "code",
      "source": [
        "x[0]"
      ],
      "metadata": {
        "colab": {
          "base_uri": "https://localhost:8080/"
        },
        "id": "rx9ZAakSLKWn",
        "outputId": "8bdf40e6-6984-4326-cad8-36dad52959e3"
      },
      "execution_count": null,
      "outputs": [
        {
          "output_type": "execute_result",
          "data": {
            "text/plain": [
              "tensor(1)"
            ]
          },
          "metadata": {},
          "execution_count": 79
        }
      ]
    },
    {
      "cell_type": "code",
      "source": [
        "# find the position in tensor that has a max value\n",
        "x.argmax()  # will use it in softmax activation fun"
      ],
      "metadata": {
        "colab": {
          "base_uri": "https://localhost:8080/"
        },
        "id": "3mxNpba3Lf-n",
        "outputId": "67bb7c09-d44e-417f-cc1d-f3625a4f2fe6"
      },
      "execution_count": null,
      "outputs": [
        {
          "output_type": "execute_result",
          "data": {
            "text/plain": [
              "tensor(9)"
            ]
          },
          "metadata": {},
          "execution_count": 80
        }
      ]
    },
    {
      "cell_type": "code",
      "source": [
        "x[9]"
      ],
      "metadata": {
        "colab": {
          "base_uri": "https://localhost:8080/"
        },
        "id": "eBBca_8jL9Il",
        "outputId": "339fd1cf-30cd-47a2-a02e-d6425efce7ef"
      },
      "execution_count": null,
      "outputs": [
        {
          "output_type": "execute_result",
          "data": {
            "text/plain": [
              "tensor(91)"
            ]
          },
          "metadata": {},
          "execution_count": 81
        }
      ]
    },
    {
      "cell_type": "markdown",
      "source": [
        "## Reshaping, stacking, squeezing and unsqueezing tensors  (Helps in fixing dim(dimension) issues)\n",
        "* Reshaping - reshapes an input tensor to a defined shape.  \n",
        "* View - Return a view of an input tensor of certain shape but keep the same memory as the original tensor.  \n",
        "* Stacking-Combine multiple tensors on top of each other(vstack) or side by side(hstack)  \n",
        "* squeeze- removes all `1` dimensions from a tensor  \n",
        "* Unsqueeze - add a `1` dimension to a target tensor  \n",
        "* Permute-Return a view of the input with dimensions permuted(swapped) in a certain way"
      ],
      "metadata": {
        "id": "nrgZyXcQMsml"
      }
    },
    {
      "cell_type": "code",
      "source": [
        "# let's create a tensor\n",
        "import torch\n",
        "x = torch.arange(1., 10.)\n",
        "x, x.shape"
      ],
      "metadata": {
        "colab": {
          "base_uri": "https://localhost:8080/"
        },
        "id": "_YgTsw6eMB1h",
        "outputId": "2d65b78e-ac08-4427-d1f0-a8262f5f57d6"
      },
      "execution_count": null,
      "outputs": [
        {
          "output_type": "execute_result",
          "data": {
            "text/plain": [
              "(tensor([1., 2., 3., 4., 5., 6., 7., 8., 9.]), torch.Size([9]))"
            ]
          },
          "metadata": {},
          "execution_count": 2
        }
      ]
    },
    {
      "cell_type": "code",
      "source": [
        "# reshape: add an extra dimension (has to be compatible with the original size)\n",
        "#x_reshaped = x.reshape(1,9) # convert it in 2D\n",
        "#x_reshaped = x.reshape(9,1) # convert it in [9,1]\n",
        "x_reshaped = x.reshape(3,3) # convert it in [3, 3]\n",
        "x_reshaped, x_reshaped.shape"
      ],
      "metadata": {
        "colab": {
          "base_uri": "https://localhost:8080/"
        },
        "id": "AmRaaBvaQrfT",
        "outputId": "309b3a05-1be2-40d3-ed81-4a9501af16bb"
      },
      "execution_count": null,
      "outputs": [
        {
          "output_type": "execute_result",
          "data": {
            "text/plain": [
              "(tensor([[1., 2., 3.],\n",
              "         [4., 5., 6.],\n",
              "         [7., 8., 9.]]),\n",
              " torch.Size([3, 3]))"
            ]
          },
          "metadata": {},
          "execution_count": 3
        }
      ]
    },
    {
      "cell_type": "code",
      "source": [
        "# change the view\n",
        "# here z is just the view, it shares memory with original variable.\n",
        "z = x.view(1, 9)\n",
        "z, z.shape\n"
      ],
      "metadata": {
        "colab": {
          "base_uri": "https://localhost:8080/"
        },
        "id": "TKY4kx-NQsU4",
        "outputId": "64c91787-7b21-4abc-e274-14f31e50f0d4"
      },
      "execution_count": null,
      "outputs": [
        {
          "output_type": "execute_result",
          "data": {
            "text/plain": [
              "(tensor([[1., 2., 3., 4., 5., 6., 7., 8., 9.]]), torch.Size([1, 9]))"
            ]
          },
          "metadata": {},
          "execution_count": 4
        }
      ]
    },
    {
      "cell_type": "code",
      "source": [
        "# change in z changes x(bcause a view of a tensor shares the same memory as the original input)\n",
        "z[:, 0] = 5\n",
        "z , x"
      ],
      "metadata": {
        "colab": {
          "base_uri": "https://localhost:8080/"
        },
        "id": "ZkJ2xa0KSuHa",
        "outputId": "7a709d33-a681-4a43-f852-d5b1a5fadc4a"
      },
      "execution_count": null,
      "outputs": [
        {
          "output_type": "execute_result",
          "data": {
            "text/plain": [
              "(tensor([[5., 2., 3., 4., 5., 6., 7., 8., 9.]]),\n",
              " tensor([5., 2., 3., 4., 5., 6., 7., 8., 9.]))"
            ]
          },
          "metadata": {},
          "execution_count": 5
        }
      ]
    },
    {
      "cell_type": "code",
      "source": [
        "# stack tensors on top of each other (similar to vstack)\n",
        "x_stacked = torch.stack([x,x,x,x], dim=0)\n",
        "x_stacked"
      ],
      "metadata": {
        "colab": {
          "base_uri": "https://localhost:8080/"
        },
        "id": "0OAZOlnFTavC",
        "outputId": "bc69dbd8-ac4d-4bf7-9af1-8d59d6d56ff7"
      },
      "execution_count": null,
      "outputs": [
        {
          "output_type": "execute_result",
          "data": {
            "text/plain": [
              "tensor([[5., 2., 3., 4., 5., 6., 7., 8., 9.],\n",
              "        [5., 2., 3., 4., 5., 6., 7., 8., 9.],\n",
              "        [5., 2., 3., 4., 5., 6., 7., 8., 9.],\n",
              "        [5., 2., 3., 4., 5., 6., 7., 8., 9.]])"
            ]
          },
          "metadata": {},
          "execution_count": 6
        }
      ]
    },
    {
      "cell_type": "code",
      "source": [
        "# stack tensors on top of each other similar to hstack\n",
        "x_stacked = torch.stack([x,x,x,x], dim=1)\n",
        "x_stacked"
      ],
      "metadata": {
        "colab": {
          "base_uri": "https://localhost:8080/"
        },
        "id": "6IM5WyAlULr6",
        "outputId": "1c37a405-8d18-4226-ffcb-a8f6f6fff108"
      },
      "execution_count": null,
      "outputs": [
        {
          "output_type": "execute_result",
          "data": {
            "text/plain": [
              "tensor([[5., 5., 5., 5.],\n",
              "        [2., 2., 2., 2.],\n",
              "        [3., 3., 3., 3.],\n",
              "        [4., 4., 4., 4.],\n",
              "        [5., 5., 5., 5.],\n",
              "        [6., 6., 6., 6.],\n",
              "        [7., 7., 7., 7.],\n",
              "        [8., 8., 8., 8.],\n",
              "        [9., 9., 9., 9.]])"
            ]
          },
          "metadata": {},
          "execution_count": 7
        }
      ]
    },
    {
      "cell_type": "code",
      "source": [
        "# vstack\n",
        "torch.vstack((x,x))"
      ],
      "metadata": {
        "colab": {
          "base_uri": "https://localhost:8080/"
        },
        "id": "d88SOTi1U8Ye",
        "outputId": "923dcf05-142e-403f-9565-844bc2b45fd8"
      },
      "execution_count": null,
      "outputs": [
        {
          "output_type": "execute_result",
          "data": {
            "text/plain": [
              "tensor([[5., 2., 3., 4., 5., 6., 7., 8., 9.],\n",
              "        [5., 2., 3., 4., 5., 6., 7., 8., 9.]])"
            ]
          },
          "metadata": {},
          "execution_count": 8
        }
      ]
    },
    {
      "cell_type": "code",
      "source": [
        "# torch hstack (Stack tensors in sequence horizontally )\n",
        "torch.hstack((x,x,x,x))"
      ],
      "metadata": {
        "colab": {
          "base_uri": "https://localhost:8080/"
        },
        "id": "6hhrGWveVIAa",
        "outputId": "d90cf4dc-0b86-4ddf-a2ba-666871a1287b"
      },
      "execution_count": null,
      "outputs": [
        {
          "output_type": "execute_result",
          "data": {
            "text/plain": [
              "tensor([5., 2., 3., 4., 5., 6., 7., 8., 9., 5., 2., 3., 4., 5., 6., 7., 8., 9.,\n",
              "        5., 2., 3., 4., 5., 6., 7., 8., 9., 5., 2., 3., 4., 5., 6., 7., 8., 9.])"
            ]
          },
          "metadata": {},
          "execution_count": 9
        }
      ]
    },
    {
      "cell_type": "code",
      "source": [
        "# torch.squeeze() - removes all single dimensions from a target tensor\n",
        "x_reshaped"
      ],
      "metadata": {
        "colab": {
          "base_uri": "https://localhost:8080/"
        },
        "id": "IfLwBZfdVOia",
        "outputId": "b8df563c-092d-4bf6-83f1-b7683e548a80"
      },
      "execution_count": null,
      "outputs": [
        {
          "output_type": "execute_result",
          "data": {
            "text/plain": [
              "tensor([[5., 2., 3.],\n",
              "        [4., 5., 6.],\n",
              "        [7., 8., 9.]])"
            ]
          },
          "metadata": {},
          "execution_count": 10
        }
      ]
    },
    {
      "cell_type": "code",
      "source": [
        "x_reshaped.shape"
      ],
      "metadata": {
        "colab": {
          "base_uri": "https://localhost:8080/"
        },
        "id": "AbPZApjkWL9q",
        "outputId": "410cf646-660e-46f4-8a95-910df2530089"
      },
      "execution_count": null,
      "outputs": [
        {
          "output_type": "execute_result",
          "data": {
            "text/plain": [
              "torch.Size([3, 3])"
            ]
          },
          "metadata": {},
          "execution_count": 11
        }
      ]
    },
    {
      "cell_type": "code",
      "source": [
        "x_reshaped.squeeze()"
      ],
      "metadata": {
        "colab": {
          "base_uri": "https://localhost:8080/"
        },
        "id": "t9jonZUcWSTZ",
        "outputId": "e5dbabb7-c391-40fb-87d6-ed9f83629142"
      },
      "execution_count": null,
      "outputs": [
        {
          "output_type": "execute_result",
          "data": {
            "text/plain": [
              "tensor([[5., 2., 3.],\n",
              "        [4., 5., 6.],\n",
              "        [7., 8., 9.]])"
            ]
          },
          "metadata": {},
          "execution_count": 12
        }
      ]
    },
    {
      "cell_type": "code",
      "source": [
        "# it only removes 1D arrays so got shape 9 only\n",
        "x.squeeze().shape, x_reshaped.squeeze().shape\n",
        "\n",
        "print(f\"Previous tensor: {x}\")\n",
        "print(f\"Previous shape: {x.shape}\")\n",
        "\n",
        "y = x.resize(1,9)\n",
        "print(\"Lets resize it first\")\n",
        "print(f\"Resized shape {y} converted to 2D\")\n",
        "\n",
        "# remove extra dimension from y\n",
        "y_squeezed = y.squeeze()\n",
        "print(f\"\\nNew tensor: {y_squeezed}\")\n",
        "print(f\"New shape: {y_squeezed.shape}\")\n"
      ],
      "metadata": {
        "colab": {
          "base_uri": "https://localhost:8080/"
        },
        "id": "p6YphvwgWbx_",
        "outputId": "fe2f7906-21d6-4316-a6c8-d3d63c08d23e"
      },
      "execution_count": null,
      "outputs": [
        {
          "output_type": "stream",
          "name": "stdout",
          "text": [
            "Previous tensor: tensor([5., 2., 3., 4., 5., 6., 7., 8., 9.])\n",
            "Previous shape: torch.Size([9])\n",
            "Lets resize it first\n",
            "Resized shape tensor([[5., 2., 3., 4., 5., 6., 7., 8., 9.]]) converted to 2D\n",
            "\n",
            "New tensor: tensor([5., 2., 3., 4., 5., 6., 7., 8., 9.])\n",
            "New shape: torch.Size([9])\n"
          ]
        },
        {
          "output_type": "stream",
          "name": "stderr",
          "text": [
            "/usr/local/lib/python3.11/dist-packages/torch/_tensor.py:955: UserWarning: non-inplace resize is deprecated\n",
            "  warnings.warn(\"non-inplace resize is deprecated\")\n"
          ]
        }
      ]
    },
    {
      "cell_type": "code",
      "source": [
        "# torch.unsqueeze() - adds a single dimension to a target tensor at a specific dimension(dim)\n",
        "print(f\"Previous target: {y_squeezed}\")\n",
        "print(f\"Previous shape: {y_squeezed.shape}\")\n",
        "\n",
        "# add an extra dimension with unsqueeze\n",
        "y_unsqueezed = y_squeezed.unsqueeze(dim=0)\n",
        "print(f\"\\nNew tensor: {y_unsqueezed}\")\n",
        "print(f\"New shape: {y_unsqueezed.shape}\")\n",
        "#"
      ],
      "metadata": {
        "colab": {
          "base_uri": "https://localhost:8080/"
        },
        "id": "CyOIM0Q4Wyde",
        "outputId": "28c46820-4f1c-42e4-842f-d10e2c7ab4a4"
      },
      "execution_count": null,
      "outputs": [
        {
          "output_type": "stream",
          "name": "stdout",
          "text": [
            "Previous target: tensor([5., 2., 3., 4., 5., 6., 7., 8., 9.])\n",
            "Previous shape: torch.Size([9])\n",
            "\n",
            "New tensor: tensor([[5., 2., 3., 4., 5., 6., 7., 8., 9.]])\n",
            "New shape: torch.Size([1, 9])\n"
          ]
        }
      ]
    },
    {
      "cell_type": "code",
      "source": [
        "y_unsqueezed = y_squeezed.unsqueeze(dim=1)\n",
        "print(f\"\\nNew tensor: {y_unsqueezed}\")\n",
        "print(f\"New shape: {y_unsqueezed.shape}\")"
      ],
      "metadata": {
        "colab": {
          "base_uri": "https://localhost:8080/"
        },
        "id": "chyPpmgcaEY1",
        "outputId": "67efc3fd-5fd8-45a8-b523-3a5877a1193e"
      },
      "execution_count": null,
      "outputs": [
        {
          "output_type": "stream",
          "name": "stdout",
          "text": [
            "\n",
            "New tensor: tensor([[5.],\n",
            "        [2.],\n",
            "        [3.],\n",
            "        [4.],\n",
            "        [5.],\n",
            "        [6.],\n",
            "        [7.],\n",
            "        [8.],\n",
            "        [9.]])\n",
            "New shape: torch.Size([9, 1])\n"
          ]
        }
      ]
    },
    {
      "cell_type": "code",
      "source": [
        "# torch.permute- rearranges the dimensions of a target tensor in a specified order\n",
        "x_original = torch.rand(size=(224,224,3)) # [ht, width, color_channels]\n",
        "\n",
        "# permute the original tensor to rearrange the axis (or dim) order\n",
        "\n",
        "x_permuted = x_original.permute(2,0,1) # shifts axis 0->1, 1->2, 2->0\n",
        "\n",
        "print(f\"Previous shape: {x_original.shape}\")\n",
        "print(f\"New shape: {x_permuted.shape}\") # [color_channels, height, width]"
      ],
      "metadata": {
        "colab": {
          "base_uri": "https://localhost:8080/"
        },
        "id": "VXx8nAwdaOLl",
        "outputId": "31d8bf24-933d-4926-8e1e-64c8442a185a"
      },
      "execution_count": null,
      "outputs": [
        {
          "output_type": "stream",
          "name": "stdout",
          "text": [
            "Previous shape: torch.Size([224, 224, 3])\n",
            "New shape: torch.Size([3, 224, 224])\n"
          ]
        }
      ]
    },
    {
      "cell_type": "code",
      "source": [
        "# x_original\n",
        "x_original[0, 0, 0] = 728218\n",
        "x_original[0,0,0], x_permuted[0,0,0]"
      ],
      "metadata": {
        "colab": {
          "base_uri": "https://localhost:8080/"
        },
        "id": "DIrJ7vkcbruk",
        "outputId": "cdd7e875-b0a8-47eb-bdf3-699523642d16"
      },
      "execution_count": null,
      "outputs": [
        {
          "output_type": "execute_result",
          "data": {
            "text/plain": [
              "(tensor(728218.), tensor(728218.))"
            ]
          },
          "metadata": {},
          "execution_count": 18
        }
      ]
    },
    {
      "cell_type": "markdown",
      "source": [
        "time : 3 Hrs :23 Min  \n",
        "\n",
        "## Indexing (selecting data from tensors.)  \n",
        "Indexing with PyTorch(Tensor is main data type)  is similar to indexing with NumPy (array as main data type)."
      ],
      "metadata": {
        "id": "jT_yiqA1dBJF"
      }
    },
    {
      "cell_type": "code",
      "source": [
        "# create a Tensor\n",
        "\n",
        "import torch\n",
        "\n",
        "x = torch.arange(1, 10).reshape(1, 3, 3)\n",
        "x, x.shape"
      ],
      "metadata": {
        "id": "vRUx1fk7bvfr",
        "colab": {
          "base_uri": "https://localhost:8080/"
        },
        "outputId": "35c7f294-349f-49cc-e092-92f4660d1873"
      },
      "execution_count": null,
      "outputs": [
        {
          "output_type": "execute_result",
          "data": {
            "text/plain": [
              "(tensor([[[1, 2, 3],\n",
              "          [4, 5, 6],\n",
              "          [7, 8, 9]]]),\n",
              " torch.Size([1, 3, 3]))"
            ]
          },
          "metadata": {},
          "execution_count": 19
        }
      ]
    },
    {
      "cell_type": "code",
      "source": [
        "# Let's index on our new Tensor (dim=0)\n",
        "x[0]"
      ],
      "metadata": {
        "colab": {
          "base_uri": "https://localhost:8080/"
        },
        "id": "Ca1rhmSJ9WQo",
        "outputId": "e0e8a4e7-caf3-4b83-b8a6-934f192c7cd7"
      },
      "execution_count": null,
      "outputs": [
        {
          "output_type": "execute_result",
          "data": {
            "text/plain": [
              "tensor([[1, 2, 3],\n",
              "        [4, 5, 6],\n",
              "        [7, 8, 9]])"
            ]
          },
          "metadata": {},
          "execution_count": 20
        }
      ]
    },
    {
      "cell_type": "code",
      "source": [
        "# now index on our middle box bracket (dim=1)\n",
        "print(x[0][0], x[0][1], x[0][2])\n",
        "# OR\n",
        "print(x[0, 0])  # Gives same output"
      ],
      "metadata": {
        "colab": {
          "base_uri": "https://localhost:8080/"
        },
        "id": "w2ve3Oaz9vrm",
        "outputId": "0e5b1598-37b5-496e-ac59-02fb45989d77"
      },
      "execution_count": null,
      "outputs": [
        {
          "output_type": "stream",
          "name": "stdout",
          "text": [
            "tensor([1, 2, 3]) tensor([4, 5, 6]) tensor([7, 8, 9])\n",
            "tensor([1, 2, 3])\n"
          ]
        }
      ]
    },
    {
      "cell_type": "code",
      "source": [
        "# lets index on the most inner box bracket (dim=2) last dimension\n",
        "x[0][0][1], x[0][2][1], x[0][1][1],x[0][2][2]"
      ],
      "metadata": {
        "colab": {
          "base_uri": "https://localhost:8080/"
        },
        "id": "GiY1jS1M97RV",
        "outputId": "3441c8fd-79ae-452d-eb5c-86ed38d20a2f"
      },
      "execution_count": null,
      "outputs": [
        {
          "output_type": "execute_result",
          "data": {
            "text/plain": [
              "(tensor(2), tensor(8), tensor(5), tensor(9))"
            ]
          },
          "metadata": {},
          "execution_count": 29
        }
      ]
    },
    {
      "cell_type": "code",
      "source": [
        "# you can also use \":\" to select 'all' of the target dimension.\n",
        "x[:, 0]"
      ],
      "metadata": {
        "colab": {
          "base_uri": "https://localhost:8080/"
        },
        "id": "JTWIaQbZ_fy2",
        "outputId": "9900bce1-9b7f-402a-968b-d348c56cc5e5"
      },
      "execution_count": null,
      "outputs": [
        {
          "output_type": "execute_result",
          "data": {
            "text/plain": [
              "tensor([[1, 2, 3]])"
            ]
          },
          "metadata": {},
          "execution_count": 30
        }
      ]
    },
    {
      "cell_type": "code",
      "source": [
        "#  Get all values of 0th and 1st dimensions, but only index 1 of 2nd dimension.\n",
        "x[:, :, 1]"
      ],
      "metadata": {
        "colab": {
          "base_uri": "https://localhost:8080/"
        },
        "id": "9MNu2LCH_z0x",
        "outputId": "299ae495-ecfb-4ad3-95df-8ddf64283d49"
      },
      "execution_count": null,
      "outputs": [
        {
          "output_type": "execute_result",
          "data": {
            "text/plain": [
              "tensor([[2, 5, 8]])"
            ]
          },
          "metadata": {},
          "execution_count": 31
        }
      ]
    },
    {
      "cell_type": "code",
      "source": [
        "# get all values of the 0 dimension but only the 1 index value of 1st and 2nd dimension\n",
        "x[:, 1, 2], x[:, 1, 1], x[:, 1, 0] , x[0, 1, 1]\n",
        "\n",
        "# here we case use 0 instead of \":\" sign, gives same result."
      ],
      "metadata": {
        "colab": {
          "base_uri": "https://localhost:8080/"
        },
        "id": "E__np4JsAb52",
        "outputId": "fe753ef4-640f-4584-e7b2-a894c389ead6"
      },
      "execution_count": null,
      "outputs": [
        {
          "output_type": "execute_result",
          "data": {
            "text/plain": [
              "(tensor([6]), tensor([5]), tensor([4]), tensor(5))"
            ]
          },
          "metadata": {},
          "execution_count": 35
        }
      ]
    },
    {
      "cell_type": "code",
      "source": [
        "# Get index 0 of 0th dimension and all values of 2nd dimension\n",
        "\n",
        "x[0,0,:], x[0,0]"
      ],
      "metadata": {
        "colab": {
          "base_uri": "https://localhost:8080/"
        },
        "id": "z0ZnRgrtBi8t",
        "outputId": "9edd78ec-6f65-4264-fd93-a20562b06301"
      },
      "execution_count": null,
      "outputs": [
        {
          "output_type": "execute_result",
          "data": {
            "text/plain": [
              "(tensor([1, 2, 3]), tensor([1, 2, 3]))"
            ]
          },
          "metadata": {},
          "execution_count": 39
        }
      ]
    },
    {
      "cell_type": "code",
      "source": [
        "# index on x to return 9\n",
        "x[0, 2, 2]"
      ],
      "metadata": {
        "colab": {
          "base_uri": "https://localhost:8080/"
        },
        "id": "V0hvx7-zCnTG",
        "outputId": "f1beb6ea-6819-4feb-d1a6-dc81d98b0469"
      },
      "execution_count": null,
      "outputs": [
        {
          "output_type": "execute_result",
          "data": {
            "text/plain": [
              "tensor(9)"
            ]
          },
          "metadata": {},
          "execution_count": 40
        }
      ]
    },
    {
      "cell_type": "code",
      "source": [
        "# index on x to return 3, 6, 9\n",
        "x[:, :, 2]"
      ],
      "metadata": {
        "colab": {
          "base_uri": "https://localhost:8080/"
        },
        "id": "z6hgda5CDJ7D",
        "outputId": "ecd0945c-648f-42a7-c9bc-4043ceb4b0e0"
      },
      "execution_count": null,
      "outputs": [
        {
          "output_type": "execute_result",
          "data": {
            "text/plain": [
              "tensor([[3, 6, 9]])"
            ]
          },
          "metadata": {},
          "execution_count": 41
        }
      ]
    },
    {
      "cell_type": "code",
      "source": [
        "x[:, :, 0], x[:, :, 1], x[:, :, 2]  # Displaying all columns in matrix"
      ],
      "metadata": {
        "colab": {
          "base_uri": "https://localhost:8080/"
        },
        "id": "-UL_gYoLDk-u",
        "outputId": "2221e055-8330-4196-d14c-1aa424cebd6a"
      },
      "execution_count": null,
      "outputs": [
        {
          "output_type": "execute_result",
          "data": {
            "text/plain": [
              "(tensor([[1, 4, 7]]), tensor([[2, 5, 8]]), tensor([[3, 6, 9]]))"
            ]
          },
          "metadata": {},
          "execution_count": 43
        }
      ]
    },
    {
      "cell_type": "code",
      "source": [
        "x[:, 0, :], x[:, 1, :], x[:, 2, :] # Displaying all rows 1 by 1 in matrix."
      ],
      "metadata": {
        "colab": {
          "base_uri": "https://localhost:8080/"
        },
        "id": "ynXLtGTiEr7d",
        "outputId": "9d1f5cea-b36b-4073-9a28-665caec754ac"
      },
      "execution_count": null,
      "outputs": [
        {
          "output_type": "execute_result",
          "data": {
            "text/plain": [
              "(tensor([[1, 2, 3]]), tensor([[4, 5, 6]]), tensor([[7, 8, 9]]))"
            ]
          },
          "metadata": {},
          "execution_count": 47
        }
      ]
    },
    {
      "cell_type": "markdown",
      "source": [
        "## PyTorch tensors and NumPy  \n",
        "NumPy is a popular scientific pytohn numerical computing liabrary.  \n",
        "and because of this, PyTorch has functionality to interact with it.  \n",
        "* Data in NumPy array, want in PyTorch tensor-> `torch.from_numpy(ndarray)`  \n",
        "* PyTorch tensor->NumPy -> `torch.Tensor.numpy()`  "
      ],
      "metadata": {
        "id": "sxjeZ-N3FZdV"
      }
    },
    {
      "cell_type": "code",
      "source": [
        "# numpy array to tensor\n",
        "import torch\n",
        "import numpy as np\n",
        "array = np.arange(1.0, 8.0)\n",
        "# warning: when converting from numpy-> pytorch, pytorch reflects numpy's default\n",
        "# datatype of float64 unless specified otherwise\n",
        "tensor = torch.from_numpy(array)\n",
        "#tensor = torch.from_numpy(array).type(torch.float32)\n",
        "array, tensor\n",
        "# default numpy data type is float 64, where as default tensor data type is\n",
        "# float 32"
      ],
      "metadata": {
        "id": "gc9TqvOSE4Kd",
        "colab": {
          "base_uri": "https://localhost:8080/"
        },
        "outputId": "f0d28fc6-f82a-4282-f982-15979ad58c93"
      },
      "execution_count": null,
      "outputs": [
        {
          "output_type": "execute_result",
          "data": {
            "text/plain": [
              "(array([1., 2., 3., 4., 5., 6., 7.]), tensor([1., 2., 3., 4., 5., 6., 7.]))"
            ]
          },
          "metadata": {},
          "execution_count": 3
        }
      ]
    },
    {
      "cell_type": "code",
      "source": [
        "tensor.dtype"
      ],
      "metadata": {
        "colab": {
          "base_uri": "https://localhost:8080/"
        },
        "id": "ejIiX0-U71Wd",
        "outputId": "79c9837a-ee81-4180-80ea-3f4fb57576de"
      },
      "execution_count": null,
      "outputs": [
        {
          "output_type": "execute_result",
          "data": {
            "text/plain": [
              "torch.float32"
            ]
          },
          "metadata": {},
          "execution_count": 5
        }
      ]
    },
    {
      "cell_type": "code",
      "source": [
        "# change the value of array, what will this do to 'tensor'?\n",
        "array = array + 1\n",
        "array, tensor"
      ],
      "metadata": {
        "colab": {
          "base_uri": "https://localhost:8080/"
        },
        "id": "CkSRc0Fb9Pxk",
        "outputId": "00c980dd-96f9-4d06-a729-3ac0e45150f1"
      },
      "execution_count": null,
      "outputs": [
        {
          "output_type": "execute_result",
          "data": {
            "text/plain": [
              "(array([2., 3., 4., 5., 6., 7., 8.]), tensor([1., 2., 3., 4., 5., 6., 7.]))"
            ]
          },
          "metadata": {},
          "execution_count": 6
        }
      ]
    },
    {
      "cell_type": "code",
      "source": [
        "# tensor to numpy array\n",
        "tensor = torch.ones(7)\n",
        "numpy_tensor = tensor.numpy()\n",
        "tensor, numpy_tensor"
      ],
      "metadata": {
        "colab": {
          "base_uri": "https://localhost:8080/"
        },
        "id": "72M-7R9A_co_",
        "outputId": "0717d131-e674-4d93-96ca-44e6fa7ea379"
      },
      "execution_count": null,
      "outputs": [
        {
          "output_type": "execute_result",
          "data": {
            "text/plain": [
              "(tensor([1., 1., 1., 1., 1., 1., 1.]),\n",
              " array([1., 1., 1., 1., 1., 1., 1.], dtype=float32))"
            ]
          },
          "metadata": {},
          "execution_count": 7
        }
      ]
    },
    {
      "cell_type": "code",
      "source": [
        "numpy_tensor.dtype"
      ],
      "metadata": {
        "colab": {
          "base_uri": "https://localhost:8080/"
        },
        "id": "QzLFXfHpADLX",
        "outputId": "40322614-2a35-49e1-93bb-e719c1278dcc"
      },
      "execution_count": null,
      "outputs": [
        {
          "output_type": "execute_result",
          "data": {
            "text/plain": [
              "dtype('float32')"
            ]
          },
          "metadata": {},
          "execution_count": 8
        }
      ]
    },
    {
      "cell_type": "code",
      "source": [
        "# change the tensor,what happens to 'numpy_tensor'\n",
        "tensor = tensor + 1\n",
        "tensor, numpy_tensor"
      ],
      "metadata": {
        "colab": {
          "base_uri": "https://localhost:8080/"
        },
        "id": "NYHkyb_9AIZc",
        "outputId": "9a90f242-2439-480d-e559-d8500cc662bc"
      },
      "execution_count": null,
      "outputs": [
        {
          "output_type": "execute_result",
          "data": {
            "text/plain": [
              "(tensor([2., 2., 2., 2., 2., 2., 2.]),\n",
              " array([1., 1., 1., 1., 1., 1., 1.], dtype=float32))"
            ]
          },
          "metadata": {},
          "execution_count": 9
        }
      ]
    },
    {
      "cell_type": "markdown",
      "source": [
        "## Reproducibility (trying to take random out of random)  \n",
        "\n",
        "In short how a neural network learns:\n",
        "`start with random numbers -> tensor operations -> update random numbers to try and make them of the data -> again -> again -> again...`  \n",
        "\n",
        "To reduce the randomness in neural network, the PyTorch comes with the concept of a **random seed**  \n",
        "Essentially what the random seed does is 'flavour' the randomness.\n"
      ],
      "metadata": {
        "id": "RbomSKPnBZJZ"
      }
    },
    {
      "cell_type": "code",
      "source": [
        "import torch\n",
        "\n",
        "randomTensor1 = torch.rand(3,4)\n",
        "randomTensor2 = torch.rand(3,4)\n",
        "\n",
        "print(randomTensor1)\n",
        "print(randomTensor2)\n",
        "print(randomTensor1 == randomTensor2)"
      ],
      "metadata": {
        "id": "2grZJDGiBJc5",
        "colab": {
          "base_uri": "https://localhost:8080/"
        },
        "outputId": "ff0ead26-3a84-41a5-a2fd-e244ac2fbedd"
      },
      "execution_count": null,
      "outputs": [
        {
          "output_type": "stream",
          "name": "stdout",
          "text": [
            "tensor([[0.6542, 0.1272, 0.3019, 0.7881],\n",
            "        [0.0240, 0.4712, 0.1247, 0.8705],\n",
            "        [0.4107, 0.4443, 0.7281, 0.0783]])\n",
            "tensor([[0.6525, 0.6558, 0.7060, 0.6607],\n",
            "        [0.8932, 0.7508, 0.0939, 0.1823],\n",
            "        [0.4398, 0.6115, 0.4376, 0.3345]])\n",
            "tensor([[False, False, False, False],\n",
            "        [False, False, False, False],\n",
            "        [False, False, False, False]])\n"
          ]
        }
      ]
    },
    {
      "cell_type": "code",
      "source": [
        "# Let's make some random but reproducible tensors.\n",
        "\n",
        "import torch\n",
        "# set the random seed\n",
        "RANDOM_SEED = 42\n",
        "torch.manual_seed(RANDOM_SEED)\n",
        "randomTensor3 = torch.rand(3,4)\n",
        "\n",
        "# set it each time for new identical random tensor\n",
        "torch.manual_seed(RANDOM_SEED) # if this line commented then ans will false.\n",
        "randomTensor4 = torch.rand(3,4)\n",
        "\n",
        "print(randomTensor3)\n",
        "print(randomTensor4)\n",
        "print(randomTensor3 == randomTensor4)\n",
        "\n",
        "# study pytorch doc for reproducibility"
      ],
      "metadata": {
        "colab": {
          "base_uri": "https://localhost:8080/"
        },
        "id": "RJWDvixFw5Ar",
        "outputId": "b7d994e9-6a1f-4499-b24c-3bd3cb10a549"
      },
      "execution_count": null,
      "outputs": [
        {
          "output_type": "stream",
          "name": "stdout",
          "text": [
            "tensor([[0.8823, 0.9150, 0.3829, 0.9593],\n",
            "        [0.3904, 0.6009, 0.2566, 0.7936],\n",
            "        [0.9408, 0.1332, 0.9346, 0.5936]])\n",
            "tensor([[0.8823, 0.9150, 0.3829, 0.9593],\n",
            "        [0.3904, 0.6009, 0.2566, 0.7936],\n",
            "        [0.9408, 0.1332, 0.9346, 0.5936]])\n",
            "tensor([[True, True, True, True],\n",
            "        [True, True, True, True],\n",
            "        [True, True, True, True]])\n"
          ]
        }
      ]
    },
    {
      "cell_type": "markdown",
      "source": [
        "## Running tensors and pytorch objects on the GPU (& make faster computation)  \n",
        "\n",
        "###  1.Getting a CPU\n",
        "* Use Colab free or pro version.  \n",
        "* Use own gpu (costly)\n",
        "* use cloud platform AWS, GCP, Azure etc.  \n",
        "\n",
        "### 2. Check for GPU acess with pytorch"
      ],
      "metadata": {
        "id": "U-e7vidcy3_-"
      }
    },
    {
      "cell_type": "code",
      "source": [
        "!nvidia-smi"
      ],
      "metadata": {
        "colab": {
          "base_uri": "https://localhost:8080/"
        },
        "id": "evtJC28w06ml",
        "outputId": "02033a9e-f323-4285-94da-17d07040b855"
      },
      "execution_count": null,
      "outputs": [
        {
          "output_type": "stream",
          "name": "stdout",
          "text": [
            "Tue Feb 11 11:49:45 2025       \n",
            "+-----------------------------------------------------------------------------------------+\n",
            "| NVIDIA-SMI 550.54.15              Driver Version: 550.54.15      CUDA Version: 12.4     |\n",
            "|-----------------------------------------+------------------------+----------------------+\n",
            "| GPU  Name                 Persistence-M | Bus-Id          Disp.A | Volatile Uncorr. ECC |\n",
            "| Fan  Temp   Perf          Pwr:Usage/Cap |           Memory-Usage | GPU-Util  Compute M. |\n",
            "|                                         |                        |               MIG M. |\n",
            "|=========================================+========================+======================|\n",
            "|   0  Tesla T4                       Off |   00000000:00:04.0 Off |                    0 |\n",
            "| N/A   62C    P8             10W /   70W |       2MiB /  15360MiB |      0%      Default |\n",
            "|                                         |                        |                  N/A |\n",
            "+-----------------------------------------+------------------------+----------------------+\n",
            "                                                                                         \n",
            "+-----------------------------------------------------------------------------------------+\n",
            "| Processes:                                                                              |\n",
            "|  GPU   GI   CI        PID   Type   Process name                              GPU Memory |\n",
            "|        ID   ID                                                               Usage      |\n",
            "|=========================================================================================|\n",
            "|  No running processes found                                                             |\n",
            "+-----------------------------------------------------------------------------------------+\n"
          ]
        }
      ]
    },
    {
      "cell_type": "code",
      "source": [
        " # see random seed concept on wiki\n",
        "\n",
        "# change runtime to GPU.\n",
        "\n",
        "# check for GPU access with PyTorch\n",
        "\n",
        "import torch\n",
        "\n",
        "torch.cuda.is_available()"
      ],
      "metadata": {
        "colab": {
          "base_uri": "https://localhost:8080/"
        },
        "id": "c6f2eKCXycWL",
        "outputId": "2d6d116d-bf06-4c09-ccf4-734eb99fdefb"
      },
      "execution_count": null,
      "outputs": [
        {
          "output_type": "execute_result",
          "data": {
            "text/plain": [
              "True"
            ]
          },
          "metadata": {},
          "execution_count": 1
        }
      ]
    },
    {
      "cell_type": "markdown",
      "source": [
        "### 2.5 Setting up Device Agnostic code\n",
        "For pytorch since it's capable of running compute on gpu or cpu, it's best practice to setup the device agnostic code,  \n",
        "e.g. run on GPU if available, else defalut to CPU"
      ],
      "metadata": {
        "id": "N8ViQo5x1o8M"
      }
    },
    {
      "cell_type": "code",
      "source": [
        "# setup device agnostic code\n",
        "\n",
        "device = \"cuda\" if torch.cuda.is_available() else \"cpu\"\n",
        "device"
      ],
      "metadata": {
        "colab": {
          "base_uri": "https://localhost:8080/",
          "height": 35
        },
        "id": "1I75WzvD0_4h",
        "outputId": "e0daf753-13fd-437a-f749-6376c2be4fc6"
      },
      "execution_count": null,
      "outputs": [
        {
          "output_type": "execute_result",
          "data": {
            "text/plain": [
              "'cuda'"
            ],
            "application/vnd.google.colaboratory.intrinsic+json": {
              "type": "string"
            }
          },
          "metadata": {},
          "execution_count": 3
        }
      ]
    },
    {
      "cell_type": "code",
      "source": [
        "# count no of devices\n",
        "torch.cuda.device_count()"
      ],
      "metadata": {
        "colab": {
          "base_uri": "https://localhost:8080/"
        },
        "id": "GHTsD8J81NWD",
        "outputId": "c2893bf5-3db8-4242-a5b0-fc9b218fc51e"
      },
      "execution_count": null,
      "outputs": [
        {
          "output_type": "execute_result",
          "data": {
            "text/plain": [
              "1"
            ]
          },
          "metadata": {},
          "execution_count": 4
        }
      ]
    },
    {
      "cell_type": "markdown",
      "source": [
        "## 3 Putting tensors (and mobile) on the GPU  \n",
        "The Reason we want our tensors/models on the GPU is because using a GPU results in faster computations.*italicised text*"
      ],
      "metadata": {
        "id": "A-ybSClh1dax"
      }
    },
    {
      "cell_type": "code",
      "source": [
        "# create a tensor (default on the cpu)\n",
        "tensor = torch.tensor([1, 2, 3], device=\"cpu\")\n",
        "\n",
        "# tensor not on GPU\n",
        "print(tensor, tensor.device)"
      ],
      "metadata": {
        "id": "ULAer2J11Tek",
        "colab": {
          "base_uri": "https://localhost:8080/"
        },
        "outputId": "61aa60a1-6e36-42ad-b1f4-89dcc6e9368b"
      },
      "execution_count": null,
      "outputs": [
        {
          "output_type": "stream",
          "name": "stdout",
          "text": [
            "tensor([1, 2, 3]) cpu\n"
          ]
        }
      ]
    },
    {
      "cell_type": "code",
      "source": [
        "# Move tensor to GPU if available\n",
        "tensor_on_gpu = tensor.to(device)\n",
        "tensor_on_gpu"
      ],
      "metadata": {
        "colab": {
          "base_uri": "https://localhost:8080/"
        },
        "id": "WTS-xVfn4WuG",
        "outputId": "b7574ae6-dce3-4591-d12c-8c4d35bc8e8a"
      },
      "execution_count": null,
      "outputs": [
        {
          "output_type": "execute_result",
          "data": {
            "text/plain": [
              "tensor([1, 2, 3], device='cuda:0')"
            ]
          },
          "metadata": {},
          "execution_count": 6
        }
      ]
    },
    {
      "cell_type": "markdown",
      "source": [
        "### 4 Moving tensors back to the CPU  "
      ],
      "metadata": {
        "id": "_a5CrpUu5VwI"
      }
    },
    {
      "cell_type": "code",
      "source": [
        "# numpy on use cpu, so If tensor is on GPU, can't transform it to NumPy\n",
        "\n",
        "tensor_on_gpu.numpy() # will throw an error"
      ],
      "metadata": {
        "colab": {
          "base_uri": "https://localhost:8080/",
          "height": 245
        },
        "id": "bzG_Zdiv4w_o",
        "outputId": "a01d8a6b-9907-4c08-e6c2-493ad66c4c82"
      },
      "execution_count": null,
      "outputs": [
        {
          "output_type": "error",
          "ename": "TypeError",
          "evalue": "can't convert cuda:0 device type tensor to numpy. Use Tensor.cpu() to copy the tensor to host memory first.",
          "traceback": [
            "\u001b[0;31m---------------------------------------------------------------------------\u001b[0m",
            "\u001b[0;31mTypeError\u001b[0m                                 Traceback (most recent call last)",
            "\u001b[0;32m<ipython-input-7-e863e5a57c51>\u001b[0m in \u001b[0;36m<cell line: 0>\u001b[0;34m()\u001b[0m\n\u001b[1;32m      1\u001b[0m \u001b[0;31m# numpy on use cpu, so If tensor is on GPU, can't transform it to NumPy\u001b[0m\u001b[0;34m\u001b[0m\u001b[0;34m\u001b[0m\u001b[0m\n\u001b[1;32m      2\u001b[0m \u001b[0;34m\u001b[0m\u001b[0m\n\u001b[0;32m----> 3\u001b[0;31m \u001b[0mtensor_on_gpu\u001b[0m\u001b[0;34m.\u001b[0m\u001b[0mnumpy\u001b[0m\u001b[0;34m(\u001b[0m\u001b[0;34m)\u001b[0m \u001b[0;31m# will throw an error\u001b[0m\u001b[0;34m\u001b[0m\u001b[0;34m\u001b[0m\u001b[0m\n\u001b[0m",
            "\u001b[0;31mTypeError\u001b[0m: can't convert cuda:0 device type tensor to numpy. Use Tensor.cpu() to copy the tensor to host memory first."
          ]
        }
      ]
    },
    {
      "cell_type": "code",
      "source": [
        "# To fix above issue the GPU tensor with NumPy issue, we can first set it to the cpu\n",
        "tensor_back_on_cpu = tensor_on_gpu.cpu()\n",
        "print(tensor_back_on_cpu) # thisis still a tensor not an array\n",
        "\n",
        "tensor_back_on_cpu = tensor_on_gpu.cpu().numpy()\n",
        "print(tensor_back_on_cpu) # now this is numpy array"
      ],
      "metadata": {
        "colab": {
          "base_uri": "https://localhost:8080/"
        },
        "id": "mWdK0bm950DG",
        "outputId": "0962925c-e953-41d9-c8f5-ca3a38528c51"
      },
      "execution_count": null,
      "outputs": [
        {
          "output_type": "stream",
          "name": "stdout",
          "text": [
            "tensor([1, 2, 3])\n",
            "[1 2 3]\n"
          ]
        }
      ]
    },
    {
      "cell_type": "code",
      "source": [
        "tensor_on_gpu"
      ],
      "metadata": {
        "colab": {
          "base_uri": "https://localhost:8080/"
        },
        "id": "vdFNW3HB7IE6",
        "outputId": "6681d31e-d19b-408a-de1e-af6399700046"
      },
      "execution_count": null,
      "outputs": [
        {
          "output_type": "execute_result",
          "data": {
            "text/plain": [
              "tensor([1, 2, 3], device='cuda:0')"
            ]
          },
          "metadata": {},
          "execution_count": 11
        }
      ]
    },
    {
      "cell_type": "markdown",
      "source": [
        "## Exercises"
      ],
      "metadata": {
        "id": "sgiFOL6u87yM"
      }
    },
    {
      "cell_type": "code",
      "source": [
        "# 1. import torch and create random array with shape (7, 7)\n",
        "import torch\n",
        "\n",
        "random_tensor = torch.rand(7, 7)\n",
        "random_tensor\n"
      ],
      "metadata": {
        "colab": {
          "base_uri": "https://localhost:8080/"
        },
        "id": "kp9SjvRH7KL8",
        "outputId": "2ed79c6e-4e82-4c08-a99f-b5eddb53bd67"
      },
      "execution_count": null,
      "outputs": [
        {
          "output_type": "execute_result",
          "data": {
            "text/plain": [
              "tensor([[0.3501, 0.3977, 0.9148, 0.2243, 0.1803, 0.1581, 0.1740],\n",
              "        [0.9816, 0.0067, 0.7920, 0.1561, 0.9484, 0.4746, 0.1586],\n",
              "        [0.0750, 0.6168, 0.9334, 0.4966, 0.7596, 0.0204, 0.2348],\n",
              "        [0.9410, 0.1622, 0.3906, 0.5807, 0.8637, 0.3147, 0.1008],\n",
              "        [0.6077, 0.8215, 0.1277, 0.6205, 0.8781, 0.3530, 0.0376],\n",
              "        [0.8308, 0.4051, 0.7201, 0.0552, 0.8915, 0.4560, 0.9210],\n",
              "        [0.0253, 0.9239, 0.3948, 0.1234, 0.3043, 0.0058, 0.5850]])"
            ]
          },
          "metadata": {},
          "execution_count": 12
        }
      ]
    },
    {
      "cell_type": "code",
      "source": [
        "# now mltipy it wit random tensor of shape (1, 7)\n",
        "\n",
        "random_tensor2 = torch.rand(1, 7)\n",
        "random_tensor2\n",
        "\n",
        "# before performing matmul lets transpose\n",
        "random_tensor3 = torch.matmul(random_tensor, random_tensor2.T)\n",
        "random_tensor3"
      ],
      "metadata": {
        "colab": {
          "base_uri": "https://localhost:8080/"
        },
        "id": "WrVlbw4H9f0g",
        "outputId": "38b368c0-f07e-4060-8044-48ab75700c04"
      },
      "execution_count": null,
      "outputs": [
        {
          "output_type": "execute_result",
          "data": {
            "text/plain": [
              "tensor([[1.4184],\n",
              "        [2.0749],\n",
              "        [1.8018],\n",
              "        [2.1939],\n",
              "        [2.4298],\n",
              "        [2.3931],\n",
              "        [1.4169]])"
            ]
          },
          "metadata": {},
          "execution_count": 14
        }
      ]
    },
    {
      "cell_type": "code",
      "source": [
        "# set random_seed to 0, and again perform above mul\n",
        "RANDOM_SEED = 0\n",
        "torch.manual_seed(RANDOM_SEED)\n",
        "\n",
        "random_tensor = torch.rand(7, 7)\n",
        "random_tensor\n",
        "random_tensor2 = torch.rand(1, 7)\n",
        "random_tensor2\n",
        "random_tensor3 = torch.matmul(random_tensor, random_tensor2.T)\n",
        "random_tensor3"
      ],
      "metadata": {
        "colab": {
          "base_uri": "https://localhost:8080/"
        },
        "id": "Jkya_3X4-Slm",
        "outputId": "9d178036-80ba-432f-a264-da466a9593d0"
      },
      "execution_count": null,
      "outputs": [
        {
          "output_type": "execute_result",
          "data": {
            "text/plain": [
              "tensor([[1.8542],\n",
              "        [1.9611],\n",
              "        [2.2884],\n",
              "        [3.0481],\n",
              "        [1.7067],\n",
              "        [2.5290],\n",
              "        [1.7989]])"
            ]
          },
          "metadata": {},
          "execution_count": 15
        }
      ]
    },
    {
      "cell_type": "code",
      "source": [
        "# create a random seed on the gpu\n",
        "RANDOM_SEED = 1234\n",
        "torch.manual_seed(RANDOM_SEED)\n",
        "\n",
        "random_tensor = torch.rand(2, 3).to(device)\n",
        "random_tensor\n",
        "\n",
        "random_tensor2 = torch.rand(2, 3).to(device)\n",
        "random_tensor2\n",
        "\n",
        "random_tensor3 = torch.matmul(random_tensor, random_tensor2.T)\n",
        "random_tensor3\n",
        "\n",
        "print(random_tensor)\n",
        "print(random_tensor2)\n",
        "print(random_tensor3)"
      ],
      "metadata": {
        "colab": {
          "base_uri": "https://localhost:8080/"
        },
        "id": "Gr2H-7FP_Y5-",
        "outputId": "ecb7b47b-62f7-4970-a63c-c0f36965dbb8"
      },
      "execution_count": null,
      "outputs": [
        {
          "output_type": "stream",
          "name": "stdout",
          "text": [
            "tensor([[0.0290, 0.4019, 0.2598],\n",
            "        [0.3666, 0.0583, 0.7006]], device='cuda:0')\n",
            "tensor([[0.0518, 0.4681, 0.6738],\n",
            "        [0.3315, 0.7837, 0.5631]], device='cuda:0')\n",
            "tensor([[0.3647, 0.4709],\n",
            "        [0.5184, 0.5617]], device='cuda:0')\n"
          ]
        }
      ]
    },
    {
      "cell_type": "code",
      "source": [
        "# finding max and min value of random tensor 3\n",
        "print(random_tensor3.max())\n",
        "print(random_tensor3.min())"
      ],
      "metadata": {
        "colab": {
          "base_uri": "https://localhost:8080/"
        },
        "id": "SjJRj72DAoUm",
        "outputId": "f897711d-60c3-4042-e985-aa0fe6d565e1"
      },
      "execution_count": null,
      "outputs": [
        {
          "output_type": "stream",
          "name": "stdout",
          "text": [
            "tensor(0.5617, device='cuda:0')\n",
            "tensor(0.3647, device='cuda:0')\n"
          ]
        }
      ]
    },
    {
      "cell_type": "code",
      "source": [
        "# final exercise\n",
        "\n",
        "# set seed\n",
        "RANDOM_SEED = 7\n",
        "torch.manual_seed(RANDOM_SEED)\n",
        "\n",
        "# create random tensor\n",
        "random_tensor = torch.rand(1, 1, 1, 10)\n",
        "random_tensor"
      ],
      "metadata": {
        "colab": {
          "base_uri": "https://localhost:8080/"
        },
        "id": "aW1H18vTA_Ik",
        "outputId": "5ba712bb-b4ae-4a3d-c67f-2d1e15b5841d"
      },
      "execution_count": null,
      "outputs": [
        {
          "output_type": "execute_result",
          "data": {
            "text/plain": [
              "tensor([[[[0.5349, 0.1988, 0.6592, 0.6569, 0.2328, 0.4251, 0.2071, 0.6297,\n",
              "           0.3653, 0.8513]]]])"
            ]
          },
          "metadata": {},
          "execution_count": 21
        }
      ]
    },
    {
      "cell_type": "code",
      "source": [
        "# remove the single dimension\n",
        "random_tensor_squeezed = random_tensor.squeeze()\n",
        "random_tensor_squeezed"
      ],
      "metadata": {
        "colab": {
          "base_uri": "https://localhost:8080/"
        },
        "id": "FBvHY5T9BFp8",
        "outputId": "220c61dc-bb2f-4deb-d8d1-72381f43bfd8"
      },
      "execution_count": null,
      "outputs": [
        {
          "output_type": "execute_result",
          "data": {
            "text/plain": [
              "tensor([0.5349, 0.1988, 0.6592, 0.6569, 0.2328, 0.4251, 0.2071, 0.6297, 0.3653,\n",
              "        0.8513])"
            ]
          },
          "metadata": {},
          "execution_count": 22
        }
      ]
    },
    {
      "cell_type": "code",
      "source": [
        "# print out tensors and their shapes\n",
        "print(f\"Random tensor: {random_tensor}\")\n",
        "print(f\"Random tensor shape: {random_tensor.shape}\")"
      ],
      "metadata": {
        "colab": {
          "base_uri": "https://localhost:8080/"
        },
        "id": "feI6GpFwBOLU",
        "outputId": "410ff7b7-b0c8-49b2-e44b-5b75c6c9de74"
      },
      "execution_count": null,
      "outputs": [
        {
          "output_type": "stream",
          "name": "stdout",
          "text": [
            "Random tensor: tensor([[[[0.5349, 0.1988, 0.6592, 0.6569, 0.2328, 0.4251, 0.2071, 0.6297,\n",
            "           0.3653, 0.8513]]]])\n",
            "Random tensor shape: torch.Size([1, 1, 1, 10])\n"
          ]
        }
      ]
    }
  ]
}